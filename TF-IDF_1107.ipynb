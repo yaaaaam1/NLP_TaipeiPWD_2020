{
 "cells": [
  {
   "cell_type": "markdown",
   "metadata": {},
   "source": [
    "### Recommendation Using TF-IDF weighted Word2Vec\n",
    "FYI - [tfidf weighted word2vec](https://medium.com/analytics-vidhya/featurization-of-text-data-bow-tf-idf-avgw2v-tfidf-weighted-w2v-7a6c62e8b097)  , \n",
    "[中文版](https://renxingkai.github.io/2019/04/05/word-tfidf/?fbclid=IwAR3kWsXJq-SLMSqgUMG6y1ZSEUGtr_6MgLVr9USrUb981_3OjFqh7R_kMUs#TF-IDF%E5%8A%A0%E6%9D%83%E5%B9%B3%E5%9D%87%E8%AF%8D%E5%90%91%E9%87%8F) <br><br>\n",
    "**STEP** <br>\n",
    "1. Create TF-IDF \n",
    "2. Convert a tf-idf dictionary with word as key, idf as a value\n",
    "3. Get TF-IDF features\n",
    "4. Create Word2Vec Model\n",
    "5. Combine w2v with TF-IDF\n",
    "6. Calculate Cosine Similarity \n",
    "7. Recommend Law "
   ]
  },
  {
   "cell_type": "markdown",
   "metadata": {},
   "source": [
    "### Read ckiptagger & Dataframe"
   ]
  },
  {
   "cell_type": "code",
   "execution_count": 1,
   "metadata": {},
   "outputs": [],
   "source": [
    "import pandas as pd\n",
    "import numpy as np\n",
    "from sklearn.feature_extraction.text import TfidfVectorizer\n",
    "from sklearn.metrics.pairwise import cosine_similarity\n",
    "import re\n",
    "from ckiptagger import data_utils, construct_dictionary, WS, POS, NER\n",
    "import datetime\n",
    "\n",
    "path = \"./data\"\n",
    "ws = WS(path)\n",
    "\n",
    "df = pd.read_csv('data_ETL3noPuncDict.csv')\n",
    "# Replace '@' with ' ' in original dataframe\n",
    "df.token = df.token.apply(lambda text: text.replace('@',' '))"
   ]
  },
  {
   "cell_type": "markdown",
   "metadata": {},
   "source": [
    "### Tf-idf for Tokenized Text in Dataframe"
   ]
  },
  {
   "cell_type": "code",
   "execution_count": 2,
   "metadata": {},
   "outputs": [],
   "source": [
    "# TF-IDF Model\n",
    "tfidf_ml = TfidfVectorizer()\n",
    "tfidf_ml.fit(df.token)\n",
    "\n",
    "# TF-IDF Dicitonary\n",
    "dictionary = dict(zip(tfidf_ml.get_feature_names(), list(tfidf_ml.idf_)))\n",
    "\n",
    "# feature name\n",
    "tfidf_feature = tfidf_ml.get_feature_names()"
   ]
  },
  {
   "cell_type": "markdown",
   "metadata": {},
   "source": [
    "### Newly Entered Text Preprocess function\n",
    "- Remove Punctuation\n",
    "- Remove Spaces\n",
    "- Sentence Segment\n",
    "- turn into list"
   ]
  },
  {
   "cell_type": "code",
   "execution_count": 12,
   "metadata": {},
   "outputs": [],
   "source": [
    "def Preprocess(text):\n",
    "    rule = re.compile(r'[^a-zA-Z0-9\\u4e00-\\u9fa5]')\n",
    "    text = rule.sub(' ',str(text))\n",
    "    text = re.sub(' +', '',text)\n",
    "    text = ws([text], sentence_segmentation=True)\n",
    "    text = [x for l in text for x in l]\n",
    "    return text"
   ]
  },
  {
   "cell_type": "markdown",
   "metadata": {},
   "source": [
    "### Create Word2Vec Model"
   ]
  },
  {
   "cell_type": "code",
   "execution_count": 3,
   "metadata": {},
   "outputs": [
    {
     "name": "stdout",
     "output_type": "stream",
     "text": [
      "Word2Vec(vocab=6182, size=100, alpha=0.025)\n"
     ]
    }
   ],
   "source": [
    "from gensim.models.word2vec import Word2Vec\n",
    "\n",
    "w2v_model = Word2Vec(df.token.apply(lambda text: text.split()))\n",
    "w2v_vocab = list(w2v_model.wv.vocab)\n",
    "print(w2v_model)"
   ]
  },
  {
   "cell_type": "markdown",
   "metadata": {},
   "source": [
    "### Calculate TF-IDF Weighted Word2Vec"
   ]
  },
  {
   "cell_type": "code",
   "execution_count": 4,
   "metadata": {},
   "outputs": [
    {
     "name": "stdout",
     "output_type": "stream",
     "text": [
      "0:07:40.872726\n"
     ]
    }
   ],
   "source": [
    "starttime = datetime.datetime.now()\n",
    "\n",
    "# TF-IDF weighted Word2Vec\n",
    "tfidf_text_vect = [] # tfidf-w2v is stored in this list\n",
    "row = 0\n",
    "\n",
    "for text in df.token.apply(lambda text: text.split()):\n",
    "    text_vect = np.zeros(100)\n",
    "    weight_sum = 0\n",
    "    for word in text:\n",
    "        if word in w2v_vocab and word in tfidf_feature:\n",
    "            vec = w2v_model.wv[word]\n",
    "            tf_idf = dictionary[word]*(text.count(word)/len(text))\n",
    "            text_vect += (vec * tf_idf)\n",
    "            weight_sum += tf_idf\n",
    "    if weight_sum != 0:\n",
    "        text_vect /= weight_sum\n",
    "    tfidf_text_vect.append(text_vect)\n",
    "    row += 1\n",
    "\n",
    "# calculate running time\n",
    "endtime = datetime.datetime.now()\n",
    "print(\"建立模型時間: \",endtime - starttime)"
   ]
  },
  {
   "cell_type": "markdown",
   "metadata": {},
   "source": [
    "### Law Recommendation Function\n",
    "輸入內文 --> 跑出推薦的前十個相近內文對應的法律"
   ]
  },
  {
   "cell_type": "code",
   "execution_count": 46,
   "metadata": {},
   "outputs": [],
   "source": [
    "def recommend_law(text, tfidf_text_vect = tfidf_text_vect):\n",
    "    text = Preprocess(text)\n",
    "    text_vect = np.zeros(100) # w2v size\n",
    "    weight_sum = 0\n",
    "    for word in text:\n",
    "        if word in w2v_vocab and word in tfidf_feature:\n",
    "            vec = w2v_model.wv[word]\n",
    "            tf_idf = dictionary[word]*(text.count(word)/len(text))\n",
    "            text_vect += (vec * tf_idf)\n",
    "            weight_sum += tf_idf\n",
    "    if weight_sum != 0:\n",
    "        text_vect /= weight_sum\n",
    "    tmp_vect = [*tfidf_text_vect,tmp_vec]\n",
    "    new_cos_sim = cosine_similarity(tmp_vect, tmp_vect)\n",
    "    sim_score = np.sort(new_cos_sim[new_cos_sim.shape[0]-1])[::-1][1:11]\n",
    "    tmp_top_10_law = df[['Ex_Tittle','CE_Item2','CE_Comment']].iloc[np.argsort(new_cos_sim[new_cos_sim.shape[0]-1])[::-1][1:11]]\n",
    "    tmp_top_10_law['similarity_score'] = [round(score*100,1) for score in sim_score]\n",
    "    return tmp_top_10_law"
   ]
  },
  {
   "cell_type": "markdown",
   "metadata": {},
   "source": [
    "### Try an Example\n",
    "輸入內容便可以推薦出適合的法律<br>\n",
    "(這邊列出的CE_Comment純粹是用來比對「輸入的內容」跟「原本內文」是否真的相近)"
   ]
  },
  {
   "cell_type": "code",
   "execution_count": 45,
   "metadata": {},
   "outputs": [
    {
     "data": {
      "text/html": [
       "<div>\n",
       "<style scoped>\n",
       "    .dataframe tbody tr th:only-of-type {\n",
       "        vertical-align: middle;\n",
       "    }\n",
       "\n",
       "    .dataframe tbody tr th {\n",
       "        vertical-align: top;\n",
       "    }\n",
       "\n",
       "    .dataframe thead th {\n",
       "        text-align: right;\n",
       "    }\n",
       "</style>\n",
       "<table border=\"1\" class=\"dataframe\">\n",
       "  <thead>\n",
       "    <tr style=\"text-align: right;\">\n",
       "      <th></th>\n",
       "      <th>Ex_Tittle</th>\n",
       "      <th>CE_Item2</th>\n",
       "      <th>CE_Comment</th>\n",
       "      <th>similarity_score</th>\n",
       "    </tr>\n",
       "  </thead>\n",
       "  <tbody>\n",
       "    <tr>\n",
       "      <th>2976</th>\n",
       "      <td>政府採購法</td>\n",
       "      <td>50</td>\n",
       "      <td>本案允許「共同投標」，開標前已查詢拒絕往來廠商名單，惟未於開標後對得標廠商之共同投標成員長泉...</td>\n",
       "      <td>90.5</td>\n",
       "    </tr>\n",
       "    <tr>\n",
       "      <th>11178</th>\n",
       "      <td>政府採購法</td>\n",
       "      <td>103</td>\n",
       "      <td>依政府採購法第103條第1項，經刊登政府採購公報之拒絕往來廠商自刊登次日起1年或3年不得參加...</td>\n",
       "      <td>89.4</td>\n",
       "    </tr>\n",
       "    <tr>\n",
       "      <th>3405</th>\n",
       "      <td>政府採購法</td>\n",
       "      <td>50</td>\n",
       "      <td>本案開標前所查詢之拒絕往來廠商名單，係自工商登記網頁查詢，非自採購主管機關工程會之政府電子採...</td>\n",
       "      <td>88.7</td>\n",
       "    </tr>\n",
       "    <tr>\n",
       "      <th>13476</th>\n",
       "      <td>政府採購法</td>\n",
       "      <td>103</td>\n",
       "      <td>項次16─依政府採購法第103條第1項，經刊登政府採購公報之拒絕往來廠商自刊登次日起1年或3...</td>\n",
       "      <td>88.7</td>\n",
       "    </tr>\n",
       "    <tr>\n",
       "      <th>2388</th>\n",
       "      <td>政府採購法</td>\n",
       "      <td>50</td>\n",
       "      <td>本案開標前未查詢拒絕往來廠商名單(依投標廠商投標封套廠商名稱，至政府採購資訊公告系統/拒絕往...</td>\n",
       "      <td>88.3</td>\n",
       "    </tr>\n",
       "    <tr>\n",
       "      <th>13171</th>\n",
       "      <td>政府採購法</td>\n",
       "      <td>103</td>\n",
       "      <td>依政府採購法第103條第1項，經刊登政府採購公報之拒絕往來廠商自刊登次日起1年或3年不得參加...</td>\n",
       "      <td>88.3</td>\n",
       "    </tr>\n",
       "    <tr>\n",
       "      <th>6345</th>\n",
       "      <td>投標廠商資格與特殊或巨額採購認定標準</td>\n",
       "      <td>4</td>\n",
       "      <td>招標公告「廠商資格摘要」登載「..非拒絕往來戶『或』最進三年內…，」與投標須知第13點(二)...</td>\n",
       "      <td>88.0</td>\n",
       "    </tr>\n",
       "    <tr>\n",
       "      <th>9896</th>\n",
       "      <td>投標廠商資格與特殊或巨額採購認定標準</td>\n",
       "      <td>4</td>\n",
       "      <td>本採購招標公告附加說明之廠商信用證明載明「非拒絕往來戶『或』最近1年……」及廠商資格審查表五...</td>\n",
       "      <td>86.4</td>\n",
       "    </tr>\n",
       "    <tr>\n",
       "      <th>7939</th>\n",
       "      <td>政府採購法</td>\n",
       "      <td>50</td>\n",
       "      <td>本案稽核文件查詢拒絕往來廠商名單之日期為101年11月3日，非本案開決標日期(101年10月...</td>\n",
       "      <td>85.6</td>\n",
       "    </tr>\n",
       "    <tr>\n",
       "      <th>4458</th>\n",
       "      <td>政府採購法</td>\n",
       "      <td>50</td>\n",
       "      <td>本採購案未依規定上網查詢拒絕往來廠商名單，核未符政府採購法第50條之規定，建議爾後於開標前，...</td>\n",
       "      <td>85.3</td>\n",
       "    </tr>\n",
       "  </tbody>\n",
       "</table>\n",
       "</div>"
      ],
      "text/plain": [
       "                Ex_Tittle CE_Item2  \\\n",
       "2976                政府採購法       50   \n",
       "11178               政府採購法      103   \n",
       "3405                政府採購法       50   \n",
       "13476               政府採購法      103   \n",
       "2388                政府採購法       50   \n",
       "13171               政府採購法      103   \n",
       "6345   投標廠商資格與特殊或巨額採購認定標準        4   \n",
       "9896   投標廠商資格與特殊或巨額採購認定標準        4   \n",
       "7939                政府採購法       50   \n",
       "4458                政府採購法       50   \n",
       "\n",
       "                                              CE_Comment  similarity_score  \n",
       "2976   本案允許「共同投標」，開標前已查詢拒絕往來廠商名單，惟未於開標後對得標廠商之共同投標成員長泉...              90.5  \n",
       "11178  依政府採購法第103條第1項，經刊登政府採購公報之拒絕往來廠商自刊登次日起1年或3年不得參加...              89.4  \n",
       "3405   本案開標前所查詢之拒絕往來廠商名單，係自工商登記網頁查詢，非自採購主管機關工程會之政府電子採...              88.7  \n",
       "13476  項次16─依政府採購法第103條第1項，經刊登政府採購公報之拒絕往來廠商自刊登次日起1年或3...              88.7  \n",
       "2388   本案開標前未查詢拒絕往來廠商名單(依投標廠商投標封套廠商名稱，至政府採購資訊公告系統/拒絕往...              88.3  \n",
       "13171  依政府採購法第103條第1項，經刊登政府採購公報之拒絕往來廠商自刊登次日起1年或3年不得參加...              88.3  \n",
       "6345   招標公告「廠商資格摘要」登載「..非拒絕往來戶『或』最進三年內…，」與投標須知第13點(二)...              88.0  \n",
       "9896   本採購招標公告附加說明之廠商信用證明載明「非拒絕往來戶『或』最近1年……」及廠商資格審查表五...              86.4  \n",
       "7939   本案稽核文件查詢拒絕往來廠商名單之日期為101年11月3日，非本案開決標日期(101年10月...              85.6  \n",
       "4458   本採購案未依規定上網查詢拒絕往來廠商名單，核未符政府採購法第50條之規定，建議爾後於開標前，...              85.3  "
      ]
     },
     "execution_count": 45,
     "metadata": {},
     "output_type": "execute_result"
    }
   ],
   "source": [
    "newtext = '被列為拒絕往來廠商'\n",
    "law_recommend_tfidfw2v(newtext).drop(columns = )"
   ]
  }
 ],
 "metadata": {
  "kernelspec": {
   "display_name": "tfenv",
   "language": "python",
   "name": "tfenv"
  },
  "language_info": {
   "codemirror_mode": {
    "name": "ipython",
    "version": 3
   },
   "file_extension": ".py",
   "mimetype": "text/x-python",
   "name": "python",
   "nbconvert_exporter": "python",
   "pygments_lexer": "ipython3",
   "version": "3.6.12"
  }
 },
 "nbformat": 4,
 "nbformat_minor": 4
}
