{
 "cells": [
  {
   "cell_type": "code",
   "execution_count": 1,
   "metadata": {},
   "outputs": [
    {
     "data": {
      "text/html": [
       "<div>\n",
       "<style scoped>\n",
       "    .dataframe tbody tr th:only-of-type {\n",
       "        vertical-align: middle;\n",
       "    }\n",
       "\n",
       "    .dataframe tbody tr th {\n",
       "        vertical-align: top;\n",
       "    }\n",
       "\n",
       "    .dataframe thead th {\n",
       "        text-align: right;\n",
       "    }\n",
       "</style>\n",
       "<table border=\"1\" class=\"dataframe\">\n",
       "  <thead>\n",
       "    <tr style=\"text-align: right;\">\n",
       "      <th></th>\n",
       "      <th>法規名稱</th>\n",
       "      <th>條</th>\n",
       "      <th>事實&amp;改進建議</th>\n",
       "      <th>similarity_score</th>\n",
       "      <th>prediction_result</th>\n",
       "      <th>evl_index</th>\n",
       "      <th>evl_type</th>\n",
       "    </tr>\n",
       "  </thead>\n",
       "  <tbody>\n",
       "    <tr>\n",
       "      <th>0</th>\n",
       "      <td>機關異質採購最有利標作業須知</td>\n",
       "      <td>7</td>\n",
       "      <td>評審結果有明顯差異，惟未予妥處，允請檢討改善。(機關異質採購最有利標作業須知第7條)： A....</td>\n",
       "      <td>84.9</td>\n",
       "      <td>False</td>\n",
       "      <td>0</td>\n",
       "      <td>原始版</td>\n",
       "    </tr>\n",
       "    <tr>\n",
       "      <th>1</th>\n",
       "      <td>採購評選委員會審議規則</td>\n",
       "      <td>6</td>\n",
       "      <td>依，査本案廠商陳○靜之評分有上開採購評選委員會審議規則第6條第2項規定之明顯差異情形，惟未依...</td>\n",
       "      <td>82.1</td>\n",
       "      <td>True</td>\n",
       "      <td>0</td>\n",
       "      <td>原始版</td>\n",
       "    </tr>\n",
       "    <tr>\n",
       "      <th>2</th>\n",
       "      <td>採購評選委員會審議規則</td>\n",
       "      <td>6</td>\n",
       "      <td>經查本案不同委員之評選結果有明顯差異(按：編號4、5之評選委員對丁文正建築師事務所之序位評比...</td>\n",
       "      <td>81.4</td>\n",
       "      <td>True</td>\n",
       "      <td>0</td>\n",
       "      <td>原始版</td>\n",
       "    </tr>\n",
       "  </tbody>\n",
       "</table>\n",
       "</div>"
      ],
      "text/plain": [
       "             法規名稱  條                                            事實&改進建議  \\\n",
       "0  機關異質採購最有利標作業須知  7  評審結果有明顯差異，惟未予妥處，允請檢討改善。(機關異質採購最有利標作業須知第7條)： A....   \n",
       "1     採購評選委員會審議規則  6  依，査本案廠商陳○靜之評分有上開採購評選委員會審議規則第6條第2項規定之明顯差異情形，惟未依...   \n",
       "2     採購評選委員會審議規則  6  經查本案不同委員之評選結果有明顯差異(按：編號4、5之評選委員對丁文正建築師事務所之序位評比...   \n",
       "\n",
       "   similarity_score  prediction_result  evl_index evl_type  \n",
       "0              84.9              False          0      原始版  \n",
       "1              82.1               True          0      原始版  \n",
       "2              81.4               True          0      原始版  "
      ]
     },
     "execution_count": 1,
     "metadata": {},
     "output_type": "execute_result"
    }
   ],
   "source": [
    "import numpy as np\n",
    "import pandas as pd\n",
    "\n",
    "df = pd.read_excel('rec_元智cut_cy版本.xlsx') \n",
    "df.head(3)"
   ]
  },
  {
   "cell_type": "code",
   "execution_count": 2,
   "metadata": {},
   "outputs": [
    {
     "data": {
      "text/html": [
       "<div>\n",
       "<style scoped>\n",
       "    .dataframe tbody tr th:only-of-type {\n",
       "        vertical-align: middle;\n",
       "    }\n",
       "\n",
       "    .dataframe tbody tr th {\n",
       "        vertical-align: top;\n",
       "    }\n",
       "\n",
       "    .dataframe thead th {\n",
       "        text-align: right;\n",
       "    }\n",
       "</style>\n",
       "<table border=\"1\" class=\"dataframe\">\n",
       "  <thead>\n",
       "    <tr style=\"text-align: right;\">\n",
       "      <th></th>\n",
       "      <th>法規名稱</th>\n",
       "      <th>條</th>\n",
       "      <th>事實&amp;改進建議</th>\n",
       "      <th>similarity_score</th>\n",
       "      <th>prediction_result</th>\n",
       "      <th>evl_index</th>\n",
       "      <th>evl_type</th>\n",
       "    </tr>\n",
       "  </thead>\n",
       "  <tbody>\n",
       "  </tbody>\n",
       "</table>\n",
       "</div>"
      ],
      "text/plain": [
       "Empty DataFrame\n",
       "Columns: [法規名稱, 條, 事實&改進建議, similarity_score, prediction_result, evl_index, evl_type]\n",
       "Index: []"
      ]
     },
     "execution_count": 2,
     "metadata": {},
     "output_type": "execute_result"
    }
   ],
   "source": [
    "df[df.法規名稱=='行政疏失'] # 無\n",
    "# 已剔除法規名稱為「行政疏失」的資料"
   ]
  },
  {
   "cell_type": "markdown",
   "metadata": {},
   "source": [
    "### 計算整體準確率"
   ]
  },
  {
   "cell_type": "code",
   "execution_count": 3,
   "metadata": {},
   "outputs": [
    {
     "name": "stdout",
     "output_type": "stream",
     "text": [
      "原始版分數:  76.1 分\n",
      "定稿版分數:  89.1 分\n"
     ]
    }
   ],
   "source": [
    "finalized = df[df.evl_type =='定稿版']\n",
    "raw = df[df.evl_type =='原始版']\n",
    "\n",
    "raw_score = 0\n",
    "finalized_score = 0\n",
    "for i in range(0,459,10):\n",
    "    if any(raw.iloc[i:(i+10)]['prediction_result']): \n",
    "        raw_score += 1\n",
    "    if any(finalized.iloc[i:(i+10)]['prediction_result']): \n",
    "        finalized_score += 1\n",
    "print(\"原始版分數: \",round(raw_score/46*100,1), \"分\\n定稿版分數: \", round(finalized_score/46*100,1),'分')"
   ]
  },
  {
   "cell_type": "markdown",
   "metadata": {},
   "source": [
    "### 限縮範圍至法規名稱為《政府採購法》的資料 計算推薦準確率"
   ]
  },
  {
   "cell_type": "code",
   "execution_count": 4,
   "metadata": {},
   "outputs": [
    {
     "data": {
      "text/plain": [
       "Int64Index([5, 8, 12, 13, 24, 30, 32, 34, 35, 36, 37, 38, 42, 43], dtype='int64')"
      ]
     },
     "execution_count": 4,
     "metadata": {},
     "output_type": "execute_result"
    }
   ],
   "source": [
    "df_1 = pd.read_excel('原始意見及定稿意見彙整表_v3.xlsx')\n",
    "evl_idx = df_1[df_1.法規名稱=='政府採購法'].index\n",
    "evl_idx # 法規名稱為《政府採購法》的資料"
   ]
  },
  {
   "cell_type": "code",
   "execution_count": 5,
   "metadata": {},
   "outputs": [
    {
     "data": {
      "text/plain": [
       "(140, 140)"
      ]
     },
     "execution_count": 5,
     "metadata": {},
     "output_type": "execute_result"
    }
   ],
   "source": [
    "raw_purchase = df.loc[(df.evl_type=='原始版') & (df.evl_index.isin(evl_idx))]\n",
    "finalized_purchase = df.loc[(df.evl_type=='定稿版') & (df.evl_index.isin(evl_idx))]\n",
    "len(raw_purchase.index), len(finalized_purchase.index) # 46筆測試資料中有14筆法規為《政府採購法》"
   ]
  },
  {
   "cell_type": "code",
   "execution_count": 7,
   "metadata": {},
   "outputs": [
    {
     "name": "stdout",
     "output_type": "stream",
     "text": [
      "原始版分數:  100.0 分\n",
      "定稿版分數:  100.0 分\n"
     ]
    }
   ],
   "source": [
    "raw_purchase_score = 0\n",
    "finalized_purchase_score = 0\n",
    "\n",
    "for i in range(0,459,10):\n",
    "    if any(raw_purchase.iloc[i:(i+10)]['prediction_result']): \n",
    "        raw_purchase_score += 1\n",
    "    if any(finalized_purchase.iloc[i:(i+10)]['prediction_result']): \n",
    "        finalized_purchase_score += 1\n",
    "print(\"原始版分數: \",round(raw_purchase_score/len(evl_idx)*100,1), \"分\\n定稿版分數: \", round(finalized_purchase_score/len(evl_idx)*100,1),'分')"
   ]
  }
 ],
 "metadata": {
  "kernelspec": {
   "display_name": "tfenv",
   "language": "python",
   "name": "tfenv"
  },
  "language_info": {
   "codemirror_mode": {
    "name": "ipython",
    "version": 3
   },
   "file_extension": ".py",
   "mimetype": "text/x-python",
   "name": "python",
   "nbconvert_exporter": "python",
   "pygments_lexer": "ipython3",
   "version": "3.6.12"
  }
 },
 "nbformat": 4,
 "nbformat_minor": 4
}
