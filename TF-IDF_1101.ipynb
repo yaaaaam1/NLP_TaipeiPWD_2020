{
 "cells": [
  {
   "cell_type": "markdown",
   "metadata": {},
   "source": [
    "### Read ckiptagger & Dataframe"
   ]
  },
  {
   "cell_type": "code",
   "execution_count": 1,
   "metadata": {},
   "outputs": [],
   "source": [
    "import pandas as pd\n",
    "import numpy as np\n",
    "import matplotlib.pyplot as plt\n",
    "from sklearn.feature_extraction.text import TfidfVectorizer, CountVectorizer,TfidfTransformer\n",
    "from sklearn.metrics.pairwise import cosine_similarity\n",
    "from scipy.sparse.dia import dia_matrix\n",
    "from scipy.sparse import vstack \n",
    "import re\n",
    "from ckiptagger import data_utils, construct_dictionary, WS, POS, NER\n",
    "\n",
    "path = \"./data\"\n",
    "ws = WS(path)\n",
    "\n",
    "df = pd.read_csv('data_ETL2noPunc.csv')\n",
    "# Replace '@' with ' ' in original dataframe\n",
    "df.token = df.token.apply(lambda text: text.replace('@',' '))"
   ]
  },
  {
   "cell_type": "markdown",
   "metadata": {},
   "source": [
    "### Tf-idf for Tokenized Text in Dataframe"
   ]
  },
  {
   "cell_type": "code",
   "execution_count": 2,
   "metadata": {},
   "outputs": [],
   "source": [
    "tf = TfidfVectorizer()\n",
    "tfidf_matrix = tf.fit_transform(df['token'])\n",
    "cos_sim = cosine_similarity(tfidf_matrix, tfidf_matrix)\n",
    "vocab = tf.vocabulary_"
   ]
  },
  {
   "cell_type": "markdown",
   "metadata": {},
   "source": [
    "### Newly Entered Text Preprocess function\n",
    "- Remove Punctuation\n",
    "- Remove Spaces\n",
    "- Sentence Segment"
   ]
  },
  {
   "cell_type": "code",
   "execution_count": 3,
   "metadata": {},
   "outputs": [],
   "source": [
    "# Remove Punc., Remove Space, Words Segment\n",
    "def Preprocess(text):\n",
    "    rule = re.compile(r'[^a-zA-Z0-9\\u4e00-\\u9fa5]')\n",
    "    text = rule.sub(' ',str(text))\n",
    "    text = re.sub(' +', '',text)\n",
    "    text = ws([text], sentence_segmentation=True)\n",
    "    cut_corpus = []\n",
    "    for word in text:\n",
    "        cut_corpus.append(' '.join(word))\n",
    "    return cut_corpus"
   ]
  },
  {
   "cell_type": "code",
   "execution_count": 4,
   "metadata": {},
   "outputs": [
    {
     "name": "stdout",
     "output_type": "stream",
     "text": [
      "['真的 難懂 採購 的 狀況']\n"
     ]
    }
   ],
   "source": [
    "tmptext = \"真的難懂採   購的狀  況\"\n",
    "tmptext = Preprocess(tmptext)\n",
    "print(tmptext)"
   ]
  },
  {
   "cell_type": "markdown",
   "metadata": {},
   "source": [
    "### Recommend Law Function\n",
    "1. Add new text in tf-idf matrix\n",
    "2. Calculate new cosine similarity\n",
    "3. Find top 10 similar text using Cosine Similarity\n",
    "4. Showt top 10 similar texts and the law corresponding to those texts"
   ]
  },
  {
   "cell_type": "code",
   "execution_count": 5,
   "metadata": {},
   "outputs": [],
   "source": [
    "def recommend_law(text, vocab = vocab, tfidf_matrix = tfidf_matrix):\n",
    "    text = Preprocess(text)\n",
    "    tf = TfidfVectorizer(vocabulary = vocab)\n",
    "    new_tf = tf.fit_transform(text) \n",
    "    new_tfidf_matrix = vstack([tfidf_matrix,new_tf])\n",
    "    new_cos_sim = cosine_similarity(new_tfidf_matrix, new_tfidf_matrix)\n",
    "    newvocab = tf.vocabulary_\n",
    "    sim_score = np.sort(new_cos_sim[new_cos_sim.shape[0]-1])[::-1][1:11]\n",
    "    tmp_top_10_law = df[['Ex_Tittle','CE_Item2','CE_Comment']].iloc[np.argsort(new_cos_sim[new_cos_sim.shape[0]-1])[::-1][1:11]]\n",
    "    tmp_top_10_law['similarity_score'] = [round(score*100,1) for score in sim_score]\n",
    "    return newvocab, new_tfidf_matrix, new_cos_sim, tmp_top_10_law\n",
    "\n",
    "newtext = \"標金保證金未符合規定，請改進\"\n",
    "vocab, tfidf_matrix, cos_sim, top_10_law = recommend_law(newtext)"
   ]
  },
  {
   "cell_type": "code",
   "execution_count": 6,
   "metadata": {},
   "outputs": [
    {
     "data": {
      "text/html": [
       "<div>\n",
       "<style scoped>\n",
       "    .dataframe tbody tr th:only-of-type {\n",
       "        vertical-align: middle;\n",
       "    }\n",
       "\n",
       "    .dataframe tbody tr th {\n",
       "        vertical-align: top;\n",
       "    }\n",
       "\n",
       "    .dataframe thead th {\n",
       "        text-align: right;\n",
       "    }\n",
       "</style>\n",
       "<table border=\"1\" class=\"dataframe\">\n",
       "  <thead>\n",
       "    <tr style=\"text-align: right;\">\n",
       "      <th></th>\n",
       "      <th>Ex_Tittle</th>\n",
       "      <th>CE_Item2</th>\n",
       "      <th>similarity_score</th>\n",
       "    </tr>\n",
       "  </thead>\n",
       "  <tbody>\n",
       "    <tr>\n",
       "      <th>2083</th>\n",
       "      <td>政府採購法</td>\n",
       "      <td>30</td>\n",
       "      <td>42.8</td>\n",
       "    </tr>\n",
       "    <tr>\n",
       "      <th>1563</th>\n",
       "      <td>政府採購法</td>\n",
       "      <td>30</td>\n",
       "      <td>42.1</td>\n",
       "    </tr>\n",
       "    <tr>\n",
       "      <th>1760</th>\n",
       "      <td>政府採購法</td>\n",
       "      <td>30</td>\n",
       "      <td>41.5</td>\n",
       "    </tr>\n",
       "    <tr>\n",
       "      <th>1743</th>\n",
       "      <td>政府採購法</td>\n",
       "      <td>30</td>\n",
       "      <td>41.5</td>\n",
       "    </tr>\n",
       "    <tr>\n",
       "      <th>2138</th>\n",
       "      <td>政府採購法</td>\n",
       "      <td>30</td>\n",
       "      <td>41.0</td>\n",
       "    </tr>\n",
       "    <tr>\n",
       "      <th>1758</th>\n",
       "      <td>政府採購法</td>\n",
       "      <td>30</td>\n",
       "      <td>39.8</td>\n",
       "    </tr>\n",
       "    <tr>\n",
       "      <th>8024</th>\n",
       "      <td>政府採購法</td>\n",
       "      <td>30</td>\n",
       "      <td>37.6</td>\n",
       "    </tr>\n",
       "    <tr>\n",
       "      <th>14752</th>\n",
       "      <td>政府採購法</td>\n",
       "      <td>30</td>\n",
       "      <td>37.4</td>\n",
       "    </tr>\n",
       "    <tr>\n",
       "      <th>3131</th>\n",
       "      <td>政府採購法</td>\n",
       "      <td>30</td>\n",
       "      <td>36.9</td>\n",
       "    </tr>\n",
       "    <tr>\n",
       "      <th>1979</th>\n",
       "      <td>政府採購法</td>\n",
       "      <td>30</td>\n",
       "      <td>33.7</td>\n",
       "    </tr>\n",
       "  </tbody>\n",
       "</table>\n",
       "</div>"
      ],
      "text/plain": [
       "      Ex_Tittle CE_Item2  similarity_score\n",
       "2083      政府採購法       30              42.8\n",
       "1563      政府採購法       30              42.1\n",
       "1760      政府採購法       30              41.5\n",
       "1743      政府採購法       30              41.5\n",
       "2138      政府採購法       30              41.0\n",
       "1758      政府採購法       30              39.8\n",
       "8024      政府採購法       30              37.6\n",
       "14752     政府採購法       30              37.4\n",
       "3131      政府採購法       30              36.9\n",
       "1979      政府採購法       30              33.7"
      ]
     },
     "execution_count": 6,
     "metadata": {},
     "output_type": "execute_result"
    }
   ],
   "source": [
    "# 依序內文(Comment)相似程度排序，顯示相似的歷史資料中所使用的法律\n",
    "top_10_law.drop(columns = ['CE_Comment']) # 資料保密 不顯示CE_Comment"
   ]
  }
 ],
 "metadata": {
  "kernelspec": {
   "display_name": "tfenv",
   "language": "python",
   "name": "tfenv"
  },
  "language_info": {
   "codemirror_mode": {
    "name": "ipython",
    "version": 3
   },
   "file_extension": ".py",
   "mimetype": "text/x-python",
   "name": "python",
   "nbconvert_exporter": "python",
   "pygments_lexer": "ipython3",
   "version": "3.6.12"
  }
 },
 "nbformat": 4,
 "nbformat_minor": 4
}
