{
 "cells": [
  {
   "cell_type": "markdown",
   "metadata": {},
   "source": [
    "### Read ckiptagger & Dataframe"
   ]
  },
  {
   "cell_type": "code",
   "execution_count": 1,
   "metadata": {
    "collapsed": true,
    "jupyter": {
     "outputs_hidden": true
    }
   },
   "outputs": [
    {
     "name": "stderr",
     "output_type": "stream",
     "text": [
      "D:\\Software\\Anaconda3\\lib\\site-packages\\tensorflow\\python\\framework\\dtypes.py:516: FutureWarning: Passing (type, 1) or '1type' as a synonym of type is deprecated; in a future version of numpy, it will be understood as (type, (1,)) / '(1,)type'.\n",
      "  _np_qint8 = np.dtype([(\"qint8\", np.int8, 1)])\n",
      "D:\\Software\\Anaconda3\\lib\\site-packages\\tensorflow\\python\\framework\\dtypes.py:517: FutureWarning: Passing (type, 1) or '1type' as a synonym of type is deprecated; in a future version of numpy, it will be understood as (type, (1,)) / '(1,)type'.\n",
      "  _np_quint8 = np.dtype([(\"quint8\", np.uint8, 1)])\n",
      "D:\\Software\\Anaconda3\\lib\\site-packages\\tensorflow\\python\\framework\\dtypes.py:518: FutureWarning: Passing (type, 1) or '1type' as a synonym of type is deprecated; in a future version of numpy, it will be understood as (type, (1,)) / '(1,)type'.\n",
      "  _np_qint16 = np.dtype([(\"qint16\", np.int16, 1)])\n",
      "D:\\Software\\Anaconda3\\lib\\site-packages\\tensorflow\\python\\framework\\dtypes.py:519: FutureWarning: Passing (type, 1) or '1type' as a synonym of type is deprecated; in a future version of numpy, it will be understood as (type, (1,)) / '(1,)type'.\n",
      "  _np_quint16 = np.dtype([(\"quint16\", np.uint16, 1)])\n",
      "D:\\Software\\Anaconda3\\lib\\site-packages\\tensorflow\\python\\framework\\dtypes.py:520: FutureWarning: Passing (type, 1) or '1type' as a synonym of type is deprecated; in a future version of numpy, it will be understood as (type, (1,)) / '(1,)type'.\n",
      "  _np_qint32 = np.dtype([(\"qint32\", np.int32, 1)])\n",
      "D:\\Software\\Anaconda3\\lib\\site-packages\\tensorflow\\python\\framework\\dtypes.py:525: FutureWarning: Passing (type, 1) or '1type' as a synonym of type is deprecated; in a future version of numpy, it will be understood as (type, (1,)) / '(1,)type'.\n",
      "  np_resource = np.dtype([(\"resource\", np.ubyte, 1)])\n",
      "D:\\Software\\Anaconda3\\lib\\site-packages\\tensorboard\\compat\\tensorflow_stub\\dtypes.py:541: FutureWarning: Passing (type, 1) or '1type' as a synonym of type is deprecated; in a future version of numpy, it will be understood as (type, (1,)) / '(1,)type'.\n",
      "  _np_qint8 = np.dtype([(\"qint8\", np.int8, 1)])\n",
      "D:\\Software\\Anaconda3\\lib\\site-packages\\tensorboard\\compat\\tensorflow_stub\\dtypes.py:542: FutureWarning: Passing (type, 1) or '1type' as a synonym of type is deprecated; in a future version of numpy, it will be understood as (type, (1,)) / '(1,)type'.\n",
      "  _np_quint8 = np.dtype([(\"quint8\", np.uint8, 1)])\n",
      "D:\\Software\\Anaconda3\\lib\\site-packages\\tensorboard\\compat\\tensorflow_stub\\dtypes.py:543: FutureWarning: Passing (type, 1) or '1type' as a synonym of type is deprecated; in a future version of numpy, it will be understood as (type, (1,)) / '(1,)type'.\n",
      "  _np_qint16 = np.dtype([(\"qint16\", np.int16, 1)])\n",
      "D:\\Software\\Anaconda3\\lib\\site-packages\\tensorboard\\compat\\tensorflow_stub\\dtypes.py:544: FutureWarning: Passing (type, 1) or '1type' as a synonym of type is deprecated; in a future version of numpy, it will be understood as (type, (1,)) / '(1,)type'.\n",
      "  _np_quint16 = np.dtype([(\"quint16\", np.uint16, 1)])\n",
      "D:\\Software\\Anaconda3\\lib\\site-packages\\tensorboard\\compat\\tensorflow_stub\\dtypes.py:545: FutureWarning: Passing (type, 1) or '1type' as a synonym of type is deprecated; in a future version of numpy, it will be understood as (type, (1,)) / '(1,)type'.\n",
      "  _np_qint32 = np.dtype([(\"qint32\", np.int32, 1)])\n",
      "D:\\Software\\Anaconda3\\lib\\site-packages\\tensorboard\\compat\\tensorflow_stub\\dtypes.py:550: FutureWarning: Passing (type, 1) or '1type' as a synonym of type is deprecated; in a future version of numpy, it will be understood as (type, (1,)) / '(1,)type'.\n",
      "  np_resource = np.dtype([(\"resource\", np.ubyte, 1)])\n"
     ]
    },
    {
     "name": "stdout",
     "output_type": "stream",
     "text": [
      "WARNING: Entity <bound method LSTMCell.call of <tensorflow.python.ops.rnn_cell_impl.LSTMCell object at 0x000001F0E930FC48>> could not be transformed and will be executed as-is. Please report this to the AutgoGraph team. When filing the bug, set the verbosity to 10 (on Linux, `export AUTOGRAPH_VERBOSITY=10`) and attach the full output. Cause: converting <bound method LSTMCell.call of <tensorflow.python.ops.rnn_cell_impl.LSTMCell object at 0x000001F0E930FC48>>: AttributeError: module 'gast' has no attribute 'Index'\n",
      "WARNING: Entity <bound method LSTMCell.call of <tensorflow.python.ops.rnn_cell_impl.LSTMCell object at 0x000001F0EA536F48>> could not be transformed and will be executed as-is. Please report this to the AutgoGraph team. When filing the bug, set the verbosity to 10 (on Linux, `export AUTOGRAPH_VERBOSITY=10`) and attach the full output. Cause: converting <bound method LSTMCell.call of <tensorflow.python.ops.rnn_cell_impl.LSTMCell object at 0x000001F0EA536F48>>: AttributeError: module 'gast' has no attribute 'Index'\n",
      "WARNING: Entity <bound method LSTMCell.call of <tensorflow.python.ops.rnn_cell_impl.LSTMCell object at 0x000001F0EA5BBDC8>> could not be transformed and will be executed as-is. Please report this to the AutgoGraph team. When filing the bug, set the verbosity to 10 (on Linux, `export AUTOGRAPH_VERBOSITY=10`) and attach the full output. Cause: converting <bound method LSTMCell.call of <tensorflow.python.ops.rnn_cell_impl.LSTMCell object at 0x000001F0EA5BBDC8>>: AttributeError: module 'gast' has no attribute 'Index'\n",
      "WARNING: Entity <bound method LSTMCell.call of <tensorflow.python.ops.rnn_cell_impl.LSTMCell object at 0x000001F0EA61BE08>> could not be transformed and will be executed as-is. Please report this to the AutgoGraph team. When filing the bug, set the verbosity to 10 (on Linux, `export AUTOGRAPH_VERBOSITY=10`) and attach the full output. Cause: converting <bound method LSTMCell.call of <tensorflow.python.ops.rnn_cell_impl.LSTMCell object at 0x000001F0EA61BE08>>: AttributeError: module 'gast' has no attribute 'Index'\n",
      "WARNING: Entity <bound method Dense.call of <tensorflow.python.layers.core.Dense object at 0x000001F0E92D0AC8>> could not be transformed and will be executed as-is. Please report this to the AutgoGraph team. When filing the bug, set the verbosity to 10 (on Linux, `export AUTOGRAPH_VERBOSITY=10`) and attach the full output. Cause: converting <bound method Dense.call of <tensorflow.python.layers.core.Dense object at 0x000001F0E92D0AC8>>: AttributeError: module 'gast' has no attribute 'Index'\n"
     ]
    }
   ],
   "source": [
    "import pandas as pd\n",
    "import numpy as np\n",
    "import matplotlib.pyplot as plt\n",
    "from sklearn.feature_extraction.text import TfidfVectorizer, CountVectorizer,TfidfTransformer\n",
    "from sklearn.metrics.pairwise import cosine_similarity\n",
    "from scipy.sparse.dia import dia_matrix\n",
    "from scipy.sparse import vstack \n",
    "import re\n",
    "from ckiptagger import data_utils, construct_dictionary, WS, POS, NER\n",
    "\n",
    "path = \"./data\"\n",
    "ws = WS(path)\n",
    "\n",
    "df = pd.read_csv('data_ETL2noPunc.csv')\n",
    "# Replace '@' with ' ' in original dataframe\n",
    "df.token = df.token.apply(lambda text: text.replace('@',' '))"
   ]
  },
  {
   "cell_type": "markdown",
   "metadata": {},
   "source": [
    "### Tf-idf for Tokenized Text in Dataframe"
   ]
  },
  {
   "cell_type": "code",
   "execution_count": 3,
   "metadata": {},
   "outputs": [],
   "source": [
    "tf = TfidfVectorizer()\n",
    "tfidf_matrix = tf.fit_transform(df['token'])\n",
    "cos_sim = cosine_similarity(tfidf_matrix, tfidf_matrix)\n",
    "vocab = tf.vocabulary_"
   ]
  },
  {
   "cell_type": "markdown",
   "metadata": {},
   "source": [
    "### Newly Entered Text Preprocess function\n",
    "- Remove Punctuation\n",
    "- Remove Spaces\n",
    "- Sentence Segment"
   ]
  },
  {
   "cell_type": "code",
   "execution_count": 2,
   "metadata": {},
   "outputs": [],
   "source": [
    "# Remove Punc., Remove Space, Words Segment\n",
    "def Preprocess(text):\n",
    "    rule = re.compile(r'[^a-zA-Z0-9\\u4e00-\\u9fa5]')\n",
    "    text = rule.sub(' ',str(text))\n",
    "    text = re.sub(' +', '',text)\n",
    "    text = ws([text], sentence_segmentation=True)\n",
    "    cut_corpus = []\n",
    "    for word in text:\n",
    "        cut_corpus.append(' '.join(word))\n",
    "    return cut_corpus"
   ]
  },
  {
   "cell_type": "code",
   "execution_count": 4,
   "metadata": {},
   "outputs": [
    {
     "name": "stdout",
     "output_type": "stream",
     "text": [
      "['真的 難懂 採購 的 狀況']\n"
     ]
    }
   ],
   "source": [
    "tmptext = \"真的難懂採   購的狀  況\"\n",
    "tmptext = Preprocess(tmptext)\n",
    "print(tmptext)"
   ]
  },
  {
   "cell_type": "markdown",
   "metadata": {},
   "source": [
    "### Recommend Law Function\n",
    "1. Add new text in tf-idf matrix\n",
    "2. Calculate new cosine similarity\n",
    "3. Find top 10 similar text using Cosine Similarity\n",
    "4. Showt top 10 similar texts and the law corresponding to those texts"
   ]
  },
  {
   "cell_type": "code",
   "execution_count": 5,
   "metadata": {},
   "outputs": [
    {
     "data": {
      "text/html": [
       "<div>\n",
       "<style scoped>\n",
       "    .dataframe tbody tr th:only-of-type {\n",
       "        vertical-align: middle;\n",
       "    }\n",
       "\n",
       "    .dataframe tbody tr th {\n",
       "        vertical-align: top;\n",
       "    }\n",
       "\n",
       "    .dataframe thead th {\n",
       "        text-align: right;\n",
       "    }\n",
       "</style>\n",
       "<table border=\"1\" class=\"dataframe\">\n",
       "  <thead>\n",
       "    <tr style=\"text-align: right;\">\n",
       "      <th></th>\n",
       "      <th>Ex_Tittle</th>\n",
       "      <th>CE_Item2</th>\n",
       "      <th>CE_Comment</th>\n",
       "      <th>similarity_score</th>\n",
       "    </tr>\n",
       "  </thead>\n",
       "  <tbody>\n",
       "    <tr>\n",
       "      <td>2083</td>\n",
       "      <td>政府採購法</td>\n",
       "      <td>30</td>\n",
       "      <td>本案屬勞務採購，並免收押標金及保證金，惟貴處於簽辦招標之簽文中未說明是否免收押標金及保證金，...</td>\n",
       "      <td>42.8</td>\n",
       "    </tr>\n",
       "    <tr>\n",
       "      <td>1563</td>\n",
       "      <td>政府採購法</td>\n",
       "      <td>30</td>\n",
       "      <td>本案屬勞務採購，並免收押標金及保證金，惟貴處於簽辦招標之簽文中未說明是否免收押標金及保證金，...</td>\n",
       "      <td>42.1</td>\n",
       "    </tr>\n",
       "    <tr>\n",
       "      <td>1760</td>\n",
       "      <td>政府採購法</td>\n",
       "      <td>30</td>\n",
       "      <td>本案屬勞務採購，並免收押標金及保證金，惟貴處於簽辦招標之簽文中未說明是否免收押標金及保證金，...</td>\n",
       "      <td>41.5</td>\n",
       "    </tr>\n",
       "    <tr>\n",
       "      <td>1743</td>\n",
       "      <td>政府採購法</td>\n",
       "      <td>30</td>\n",
       "      <td>本案屬勞務採購，並免收押標金及保證金，惟貴處於簽辦招標之簽文中未說明是否免收押標金及保證金，...</td>\n",
       "      <td>41.5</td>\n",
       "    </tr>\n",
       "    <tr>\n",
       "      <td>2138</td>\n",
       "      <td>政府採購法</td>\n",
       "      <td>30</td>\n",
       "      <td>本案屬勞務採購，並免收押標金及保證金，惟於簽辦招標之簽文中未說明是否免收押標金及保證金，亦未...</td>\n",
       "      <td>41.0</td>\n",
       "    </tr>\n",
       "    <tr>\n",
       "      <td>1758</td>\n",
       "      <td>政府採購法</td>\n",
       "      <td>30</td>\n",
       "      <td>貴處98年2月12日簽文說明五敘明本案免收押標金、保證金，並經簽奉核可，惟所謂“保證金”尚包...</td>\n",
       "      <td>39.8</td>\n",
       "    </tr>\n",
       "    <tr>\n",
       "      <td>8024</td>\n",
       "      <td>政府採購法</td>\n",
       "      <td>30</td>\n",
       "      <td>本案投標須知第23、26、27點規定：「若已在本校工程中有保固保證金，有效期超過一年且大於4...</td>\n",
       "      <td>37.6</td>\n",
       "    </tr>\n",
       "    <tr>\n",
       "      <td>14752</td>\n",
       "      <td>政府採購法</td>\n",
       "      <td>30</td>\n",
       "      <td>依據政府採購法第30條第1項第1款規定：「勞務採購，以免收押標金、保證金為原則。」，查投標須...</td>\n",
       "      <td>37.4</td>\n",
       "    </tr>\n",
       "    <tr>\n",
       "      <td>3131</td>\n",
       "      <td>政府採購法</td>\n",
       "      <td>30</td>\n",
       "      <td>本案補充投標須知壹、十六載明押標金450,000元整，簽約後轉為履約保證金，機關規定廠商押標...</td>\n",
       "      <td>36.9</td>\n",
       "    </tr>\n",
       "    <tr>\n",
       "      <td>1979</td>\n",
       "      <td>政府採購法</td>\n",
       "      <td>30</td>\n",
       "      <td>本案屬勞務採購，並免收押標金，惟貴處於簽辦招標之簽文中未說明是否免收押標金及保證金，亦未載明...</td>\n",
       "      <td>33.7</td>\n",
       "    </tr>\n",
       "  </tbody>\n",
       "</table>\n",
       "</div>"
      ],
      "text/plain": [
       "      Ex_Tittle CE_Item2                                         CE_Comment  \\\n",
       "2083      政府採購法       30  本案屬勞務採購，並免收押標金及保證金，惟貴處於簽辦招標之簽文中未說明是否免收押標金及保證金，...   \n",
       "1563      政府採購法       30  本案屬勞務採購，並免收押標金及保證金，惟貴處於簽辦招標之簽文中未說明是否免收押標金及保證金，...   \n",
       "1760      政府採購法       30  本案屬勞務採購，並免收押標金及保證金，惟貴處於簽辦招標之簽文中未說明是否免收押標金及保證金，...   \n",
       "1743      政府採購法       30  本案屬勞務採購，並免收押標金及保證金，惟貴處於簽辦招標之簽文中未說明是否免收押標金及保證金，...   \n",
       "2138      政府採購法       30  本案屬勞務採購，並免收押標金及保證金，惟於簽辦招標之簽文中未說明是否免收押標金及保證金，亦未...   \n",
       "1758      政府採購法       30  貴處98年2月12日簽文說明五敘明本案免收押標金、保證金，並經簽奉核可，惟所謂“保證金”尚包...   \n",
       "8024      政府採購法       30  本案投標須知第23、26、27點規定：「若已在本校工程中有保固保證金，有效期超過一年且大於4...   \n",
       "14752     政府採購法       30  依據政府採購法第30條第1項第1款規定：「勞務採購，以免收押標金、保證金為原則。」，查投標須...   \n",
       "3131      政府採購法       30  本案補充投標須知壹、十六載明押標金450,000元整，簽約後轉為履約保證金，機關規定廠商押標...   \n",
       "1979      政府採購法       30  本案屬勞務採購，並免收押標金，惟貴處於簽辦招標之簽文中未說明是否免收押標金及保證金，亦未載明...   \n",
       "\n",
       "       similarity_score  \n",
       "2083               42.8  \n",
       "1563               42.1  \n",
       "1760               41.5  \n",
       "1743               41.5  \n",
       "2138               41.0  \n",
       "1758               39.8  \n",
       "8024               37.6  \n",
       "14752              37.4  \n",
       "3131               36.9  \n",
       "1979               33.7  "
      ]
     },
     "execution_count": 5,
     "metadata": {},
     "output_type": "execute_result"
    }
   ],
   "source": [
    "newtext = \"標金保證金未符合規定，請改進\"\n",
    "def recommend_law(text, vocab = vocab, tfidf_matrix = tfidf_matrix):\n",
    "    text = Preprocess(text)\n",
    "    tf = TfidfVectorizer(vocabulary = vocab)\n",
    "    new_tf = tf.fit_transform(text) \n",
    "    new_tfidf_matrix = vstack([tfidf_matrix,new_tf])\n",
    "    new_cos_sim = cosine_similarity(new_tfidf_matrix, new_tfidf_matrix)\n",
    "    newvocab = tf.vocabulary_\n",
    "    sim_score = np.sort(new_cos_sim[new_cos_sim.shape[0]-1])[::-1][1:11]\n",
    "    tmp_top_10_law = df[['Ex_Tittle','CE_Item2','CE_Comment']].iloc[np.argsort(new_cos_sim[new_cos_sim.shape[0]-1])[::-1][1:11]]\n",
    "    tmp_top_10_law['similarity_score'] = [round(score*100,1) for score in sim_score]\n",
    "    return newvocab, new_tfidf_matrix, new_cos_sim, tmp_top_10_law\n",
    "\n",
    "vocab, tfidf_matrix, cos_sim, top_10_law = recommend_law(newtext)\n",
    "\n",
    "top_10_law"
   ]
  },
  {
   "cell_type": "code",
   "execution_count": null,
   "metadata": {},
   "outputs": [],
   "source": []
  }
 ],
 "metadata": {
  "kernelspec": {
   "display_name": "Python 3",
   "language": "python",
   "name": "python3"
  },
  "language_info": {
   "codemirror_mode": {
    "name": "ipython",
    "version": 3
   },
   "file_extension": ".py",
   "mimetype": "text/x-python",
   "name": "python",
   "nbconvert_exporter": "python",
   "pygments_lexer": "ipython3",
   "version": "3.7.4"
  }
 },
 "nbformat": 4,
 "nbformat_minor": 4
}
