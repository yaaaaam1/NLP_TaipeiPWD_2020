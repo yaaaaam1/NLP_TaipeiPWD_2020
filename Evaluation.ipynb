{
 "cells": [
  {
   "cell_type": "markdown",
   "metadata": {},
   "source": [
    "# 定稿版&原始版資料推薦效果比較"
   ]
  },
  {
   "cell_type": "markdown",
   "metadata": {},
   "source": [
    "### Import Original Data"
   ]
  },
  {
   "cell_type": "code",
   "execution_count": 1,
   "metadata": {},
   "outputs": [],
   "source": [
    "import numpy as np\n",
    "import pandas as pd\n",
    "from glob import glob\n",
    "trytext = pd.read_excel('原始意見及定稿意見彙整表_v3.xlsx')\n",
    "\n",
    "# trytext[['法規名稱','條']][:3]\n",
    "trytext = trytext[trytext['法規名稱'] != '行政疏失']\n",
    "# trytext = trytext.drop([trytext.index[1],trytext.index[2],trytext.index[33]])\n",
    "trytext.reset_index(drop=True, inplace=True)\n",
    "trytext['條'] = trytext['條'].astype(int).apply(str)"
   ]
  },
  {
   "cell_type": "markdown",
   "metadata": {},
   "source": [
    "### Evaluation\n",
    "在採購科提供的46個案例中(扣除\"行政疏失\"案例)，每題若有推薦到正確法條者score+1，最後以百分比制計算。<br>\n",
    "e.g. 46條案例中 有23條我們有成功推薦 -> 得分 = 23/46 * 100 = 50 (分)"
   ]
  },
  {
   "cell_type": "markdown",
   "metadata": {},
   "source": [
    "### 定稿版資料測試"
   ]
  },
  {
   "cell_type": "code",
   "execution_count": 2,
   "metadata": {},
   "outputs": [
    {
     "name": "stdout",
     "output_type": "stream",
     "text": [
      "rec_元智_cut_定稿.xlsx\n",
      "Score:  63.0 分\n",
      "\n"
     ]
    }
   ],
   "source": [
    "# Calculate Scores\n",
    "scores = []\n",
    "定稿版_wronglist = []\n",
    "for df in glob(\"*定稿.xlsx\"):\n",
    "    print(df)\n",
    "    df = pd.ExcelFile(df)\n",
    "    i = 0\n",
    "    score = 0\n",
    "    shtnames = [j for i, j in enumerate(df.sheet_names) if i not in [1,2,33]]\n",
    "    for shtname in shtnames: # see all sheet names\n",
    "        sht = df.parse(shtname) # read a specific sheet to DataFrame\n",
    "        sht.iloc[2] = sht.iloc[2].apply(str)\n",
    "        # 比對預測結果中是否有出現實際結果的\"法規名稱\"&\"法條\" \n",
    "        if trytext['法規名稱'][i] in set(sht.iloc[:, 0]) and trytext['條'][i] in set(sht.iloc[:,1]):\n",
    "            score += 1\n",
    "        else:\n",
    "            定稿版_wronglist.append(i)\n",
    "        i += 1\n",
    "    scores.append(score)\n",
    "    print(\"Score: \", round(score/46*100,1),\"分\\n\")"
   ]
  },
  {
   "cell_type": "markdown",
   "metadata": {},
   "source": [
    "### 定稿版測試資料推薦錯誤的部分\n",
    "因為資料保密，在此不顯示原始版及定稿版內容。<br>\n",
    "完整錯誤推薦的資料放於雲端硬碟**evaluation資料夾**，編碼為utf-8"
   ]
  },
  {
   "cell_type": "code",
   "execution_count": 3,
   "metadata": {},
   "outputs": [
    {
     "data": {
      "text/html": [
       "<div>\n",
       "<style scoped>\n",
       "    .dataframe tbody tr th:only-of-type {\n",
       "        vertical-align: middle;\n",
       "    }\n",
       "\n",
       "    .dataframe tbody tr th {\n",
       "        vertical-align: top;\n",
       "    }\n",
       "\n",
       "    .dataframe thead th {\n",
       "        text-align: right;\n",
       "    }\n",
       "</style>\n",
       "<table border=\"1\" class=\"dataframe\">\n",
       "  <thead>\n",
       "    <tr style=\"text-align: right;\">\n",
       "      <th></th>\n",
       "      <th>法規名稱</th>\n",
       "      <th>條</th>\n",
       "    </tr>\n",
       "  </thead>\n",
       "  <tbody>\n",
       "    <tr>\n",
       "      <th>1</th>\n",
       "      <td>臺北市政府所屬各機關公共工程施工安全衛生須知</td>\n",
       "      <td>3</td>\n",
       "    </tr>\n",
       "    <tr>\n",
       "      <th>4</th>\n",
       "      <td>臺北市政府公共工程施工品質管理作業要點</td>\n",
       "      <td>16</td>\n",
       "    </tr>\n",
       "    <tr>\n",
       "      <th>7</th>\n",
       "      <td>政府採購法施行細則</td>\n",
       "      <td>101</td>\n",
       "    </tr>\n",
       "    <tr>\n",
       "      <th>8</th>\n",
       "      <td>政府採購法第二十六條執行注意事項</td>\n",
       "      <td>6</td>\n",
       "    </tr>\n",
       "    <tr>\n",
       "      <th>9</th>\n",
       "      <td>政府採購法施行細則</td>\n",
       "      <td>51</td>\n",
       "    </tr>\n",
       "    <tr>\n",
       "      <th>10</th>\n",
       "      <td>政府採購法</td>\n",
       "      <td>26</td>\n",
       "    </tr>\n",
       "    <tr>\n",
       "      <th>13</th>\n",
       "      <td>政府採購法施行細則</td>\n",
       "      <td>96</td>\n",
       "    </tr>\n",
       "    <tr>\n",
       "      <th>21</th>\n",
       "      <td>採購評選委員會組織準則</td>\n",
       "      <td>4</td>\n",
       "    </tr>\n",
       "    <tr>\n",
       "      <th>23</th>\n",
       "      <td>政府採購法施行細則</td>\n",
       "      <td>43</td>\n",
       "    </tr>\n",
       "    <tr>\n",
       "      <th>24</th>\n",
       "      <td>採購評選委員會委員名單保密措施一覽表</td>\n",
       "      <td>2</td>\n",
       "    </tr>\n",
       "    <tr>\n",
       "      <th>26</th>\n",
       "      <td>臺北市政府所屬各機關公共工程施工安全衛生須知</td>\n",
       "      <td>3</td>\n",
       "    </tr>\n",
       "    <tr>\n",
       "      <th>29</th>\n",
       "      <td>臺北市政府公共工程施工品質管理作業要點</td>\n",
       "      <td>16</td>\n",
       "    </tr>\n",
       "    <tr>\n",
       "      <th>33</th>\n",
       "      <td>政府採購法</td>\n",
       "      <td>26</td>\n",
       "    </tr>\n",
       "    <tr>\n",
       "      <th>37</th>\n",
       "      <td>臺北市政府所屬各機關工程施工及驗收基準</td>\n",
       "      <td>25</td>\n",
       "    </tr>\n",
       "    <tr>\n",
       "      <th>41</th>\n",
       "      <td>招標標準期限</td>\n",
       "      <td>7</td>\n",
       "    </tr>\n",
       "    <tr>\n",
       "      <th>42</th>\n",
       "      <td>政府採購法施行細則</td>\n",
       "      <td>96</td>\n",
       "    </tr>\n",
       "    <tr>\n",
       "      <th>43</th>\n",
       "      <td>政府採購法施行細則</td>\n",
       "      <td>68</td>\n",
       "    </tr>\n",
       "  </tbody>\n",
       "</table>\n",
       "</div>"
      ],
      "text/plain": [
       "                      法規名稱    條\n",
       "1   臺北市政府所屬各機關公共工程施工安全衛生須知    3\n",
       "4      臺北市政府公共工程施工品質管理作業要點   16\n",
       "7                政府採購法施行細則  101\n",
       "8         政府採購法第二十六條執行注意事項    6\n",
       "9                政府採購法施行細則   51\n",
       "10                   政府採購法   26\n",
       "13               政府採購法施行細則   96\n",
       "21             採購評選委員會組織準則    4\n",
       "23               政府採購法施行細則   43\n",
       "24      採購評選委員會委員名單保密措施一覽表    2\n",
       "26  臺北市政府所屬各機關公共工程施工安全衛生須知    3\n",
       "29     臺北市政府公共工程施工品質管理作業要點   16\n",
       "33                   政府採購法   26\n",
       "37     臺北市政府所屬各機關工程施工及驗收基準   25\n",
       "41                  招標標準期限    7\n",
       "42               政府採購法施行細則   96\n",
       "43               政府採購法施行細則   68"
      ]
     },
     "execution_count": 3,
     "metadata": {},
     "output_type": "execute_result"
    }
   ],
   "source": [
    "trytext.iloc[定稿版_wronglist].drop(columns = ['原始版','定稿版'])"
   ]
  },
  {
   "cell_type": "markdown",
   "metadata": {},
   "source": [
    "### 原始版資料測試"
   ]
  },
  {
   "cell_type": "code",
   "execution_count": 4,
   "metadata": {},
   "outputs": [
    {
     "name": "stdout",
     "output_type": "stream",
     "text": [
      "rec_元智_cut_原始.xlsx\n",
      "Score:  56.5 分\n",
      "\n"
     ]
    }
   ],
   "source": [
    "# Calculate Scores\n",
    "scores = []\n",
    "原始版_wronglist = []\n",
    "for df in glob(\"*原始.xlsx\"):\n",
    "    print(df)\n",
    "    df = pd.ExcelFile(df)\n",
    "    i = 0\n",
    "    score = 0\n",
    "    shtnames = [j for i, j in enumerate(df.sheet_names) if i not in [1,2,33]]\n",
    "    for shtname in shtnames: # see all sheet names\n",
    "        sht = df.parse(shtname) # read a specific sheet to DataFrame\n",
    "        sht.iloc[2] = sht.iloc[2].apply(str)\n",
    "        # 比對預測結果中是否有出現實際結果的\"法規名稱\"&\"法條\" \n",
    "        if trytext['法規名稱'][i] in set(sht.iloc[:, 0]) and trytext['條'][i] in set(sht.iloc[:,1]):\n",
    "            score += 1\n",
    "        else:\n",
    "            原始版_wronglist.append(i)\n",
    "        i += 1\n",
    "    scores.append(score)\n",
    "    print(\"Score: \", round(score/46*100,1),\"分\\n\")"
   ]
  },
  {
   "cell_type": "markdown",
   "metadata": {},
   "source": [
    "### 定稿版測試資料推薦錯誤的部分\n",
    "因為資料保密，在此不顯示原始版及定稿版內容。<br>\n",
    "完整錯誤推薦的資料放於雲端硬碟**evaluation資料夾**，編碼為utf-8"
   ]
  },
  {
   "cell_type": "code",
   "execution_count": 5,
   "metadata": {},
   "outputs": [
    {
     "data": {
      "text/html": [
       "<div>\n",
       "<style scoped>\n",
       "    .dataframe tbody tr th:only-of-type {\n",
       "        vertical-align: middle;\n",
       "    }\n",
       "\n",
       "    .dataframe tbody tr th {\n",
       "        vertical-align: top;\n",
       "    }\n",
       "\n",
       "    .dataframe thead th {\n",
       "        text-align: right;\n",
       "    }\n",
       "</style>\n",
       "<table border=\"1\" class=\"dataframe\">\n",
       "  <thead>\n",
       "    <tr style=\"text-align: right;\">\n",
       "      <th></th>\n",
       "      <th>法規名稱</th>\n",
       "      <th>條</th>\n",
       "    </tr>\n",
       "  </thead>\n",
       "  <tbody>\n",
       "    <tr>\n",
       "      <th>1</th>\n",
       "      <td>臺北市政府所屬各機關公共工程施工安全衛生須知</td>\n",
       "      <td>3</td>\n",
       "    </tr>\n",
       "    <tr>\n",
       "      <th>4</th>\n",
       "      <td>臺北市政府公共工程施工品質管理作業要點</td>\n",
       "      <td>16</td>\n",
       "    </tr>\n",
       "    <tr>\n",
       "      <th>7</th>\n",
       "      <td>政府採購法施行細則</td>\n",
       "      <td>101</td>\n",
       "    </tr>\n",
       "    <tr>\n",
       "      <th>10</th>\n",
       "      <td>政府採購法</td>\n",
       "      <td>26</td>\n",
       "    </tr>\n",
       "    <tr>\n",
       "      <th>11</th>\n",
       "      <td>政府採購法</td>\n",
       "      <td>46</td>\n",
       "    </tr>\n",
       "    <tr>\n",
       "      <th>12</th>\n",
       "      <td>機關主會計及有關單位會同監辦採購辦法</td>\n",
       "      <td>7</td>\n",
       "    </tr>\n",
       "    <tr>\n",
       "      <th>13</th>\n",
       "      <td>政府採購法施行細則</td>\n",
       "      <td>96</td>\n",
       "    </tr>\n",
       "    <tr>\n",
       "      <th>16</th>\n",
       "      <td>政府採購法施行細則</td>\n",
       "      <td>51</td>\n",
       "    </tr>\n",
       "    <tr>\n",
       "      <th>21</th>\n",
       "      <td>採購評選委員會組織準則</td>\n",
       "      <td>4</td>\n",
       "    </tr>\n",
       "    <tr>\n",
       "      <th>24</th>\n",
       "      <td>採購評選委員會委員名單保密措施一覽表</td>\n",
       "      <td>2</td>\n",
       "    </tr>\n",
       "    <tr>\n",
       "      <th>25</th>\n",
       "      <td>臺北市政府工程經費估算原則</td>\n",
       "      <td>8</td>\n",
       "    </tr>\n",
       "    <tr>\n",
       "      <th>26</th>\n",
       "      <td>臺北市政府所屬各機關公共工程施工安全衛生須知</td>\n",
       "      <td>3</td>\n",
       "    </tr>\n",
       "    <tr>\n",
       "      <th>29</th>\n",
       "      <td>臺北市政府公共工程施工品質管理作業要點</td>\n",
       "      <td>16</td>\n",
       "    </tr>\n",
       "    <tr>\n",
       "      <th>31</th>\n",
       "      <td>政府採購法</td>\n",
       "      <td>46</td>\n",
       "    </tr>\n",
       "    <tr>\n",
       "      <th>37</th>\n",
       "      <td>臺北市政府所屬各機關工程施工及驗收基準</td>\n",
       "      <td>25</td>\n",
       "    </tr>\n",
       "    <tr>\n",
       "      <th>38</th>\n",
       "      <td>臺北市政府所屬各機關工程施工及驗收基準</td>\n",
       "      <td>24</td>\n",
       "    </tr>\n",
       "    <tr>\n",
       "      <th>39</th>\n",
       "      <td>政府採購法</td>\n",
       "      <td>46</td>\n",
       "    </tr>\n",
       "    <tr>\n",
       "      <th>41</th>\n",
       "      <td>招標標準期限</td>\n",
       "      <td>7</td>\n",
       "    </tr>\n",
       "    <tr>\n",
       "      <th>42</th>\n",
       "      <td>政府採購法施行細則</td>\n",
       "      <td>96</td>\n",
       "    </tr>\n",
       "    <tr>\n",
       "      <th>43</th>\n",
       "      <td>政府採購法施行細則</td>\n",
       "      <td>68</td>\n",
       "    </tr>\n",
       "  </tbody>\n",
       "</table>\n",
       "</div>"
      ],
      "text/plain": [
       "                      法規名稱    條\n",
       "1   臺北市政府所屬各機關公共工程施工安全衛生須知    3\n",
       "4      臺北市政府公共工程施工品質管理作業要點   16\n",
       "7                政府採購法施行細則  101\n",
       "10                   政府採購法   26\n",
       "11                   政府採購法   46\n",
       "12      機關主會計及有關單位會同監辦採購辦法    7\n",
       "13               政府採購法施行細則   96\n",
       "16               政府採購法施行細則   51\n",
       "21             採購評選委員會組織準則    4\n",
       "24      採購評選委員會委員名單保密措施一覽表    2\n",
       "25           臺北市政府工程經費估算原則    8\n",
       "26  臺北市政府所屬各機關公共工程施工安全衛生須知    3\n",
       "29     臺北市政府公共工程施工品質管理作業要點   16\n",
       "31                   政府採購法   46\n",
       "37     臺北市政府所屬各機關工程施工及驗收基準   25\n",
       "38     臺北市政府所屬各機關工程施工及驗收基準   24\n",
       "39                   政府採購法   46\n",
       "41                  招標標準期限    7\n",
       "42               政府採購法施行細則   96\n",
       "43               政府採購法施行細則   68"
      ]
     },
     "execution_count": 5,
     "metadata": {},
     "output_type": "execute_result"
    }
   ],
   "source": [
    "trytext.iloc[原始版_wronglist].drop(columns = ['原始版','定稿版'])"
   ]
  },
  {
   "cell_type": "code",
   "execution_count": 6,
   "metadata": {},
   "outputs": [
    {
     "data": {
      "text/plain": [
       "[1, 4, 7, 10, 11, 12, 13, 16, 21, 24, 25, 26, 29, 31, 37, 38, 39, 41, 42, 43]"
      ]
     },
     "execution_count": 6,
     "metadata": {},
     "output_type": "execute_result"
    }
   ],
   "source": [
    "原始版_wronglist"
   ]
  },
  {
   "cell_type": "code",
   "execution_count": 7,
   "metadata": {},
   "outputs": [
    {
     "data": {
      "text/plain": [
       "[1, 4, 7, 8, 9, 10, 13, 21, 23, 24, 26, 29, 33, 37, 41, 42, 43]"
      ]
     },
     "execution_count": 7,
     "metadata": {},
     "output_type": "execute_result"
    }
   ],
   "source": [
    "定稿版_wronglist"
   ]
  },
  {
   "cell_type": "code",
   "execution_count": 8,
   "metadata": {},
   "outputs": [
    {
     "data": {
      "text/plain": [
       "[1, 4, 37, 7, 41, 10, 42, 43, 13, 21, 24, 26, 29]"
      ]
     },
     "execution_count": 8,
     "metadata": {},
     "output_type": "execute_result"
    }
   ],
   "source": [
    "# 兩版資料皆推薦錯誤\n",
    "list(set(原始版_wronglist)&set(定稿版_wronglist))"
   ]
  },
  {
   "cell_type": "code",
   "execution_count": 9,
   "metadata": {},
   "outputs": [
    {
     "data": {
      "text/plain": [
       "{11, 12, 16, 25, 31, 38, 39}"
      ]
     },
     "execution_count": 9,
     "metadata": {},
     "output_type": "execute_result"
    }
   ],
   "source": [
    "# 僅原始版錯誤推薦\n",
    "set(原始版_wronglist) - set(定稿版_wronglist)"
   ]
  },
  {
   "cell_type": "code",
   "execution_count": 10,
   "metadata": {},
   "outputs": [
    {
     "data": {
      "text/plain": [
       "{8, 9, 23, 33}"
      ]
     },
     "execution_count": 10,
     "metadata": {},
     "output_type": "execute_result"
    }
   ],
   "source": [
    "# 僅定稿版錯誤推薦\n",
    "set(定稿版_wronglist) - set(原始版_wronglist)"
   ]
  }
 ],
 "metadata": {
  "kernelspec": {
   "display_name": "tfenv",
   "language": "python",
   "name": "tfenv"
  },
  "language_info": {
   "codemirror_mode": {
    "name": "ipython",
    "version": 3
   },
   "file_extension": ".py",
   "mimetype": "text/x-python",
   "name": "python",
   "nbconvert_exporter": "python",
   "pygments_lexer": "ipython3",
   "version": "3.6.12"
  }
 },
 "nbformat": 4,
 "nbformat_minor": 4
}
