{
 "cells": [
  {
   "cell_type": "markdown",
   "metadata": {},
   "source": [
    "# 定稿版&原始版資料推薦效果比較"
   ]
  },
  {
   "cell_type": "markdown",
   "metadata": {},
   "source": [
    "### Import Original Data"
   ]
  },
  {
   "cell_type": "code",
   "execution_count": 33,
   "metadata": {},
   "outputs": [],
   "source": [
    "import numpy as np\n",
    "import pandas as pd\n",
    "from glob import glob\n",
    "trytext = pd.read_excel('原始意見及定稿意見彙整表_v3.xlsx')\n",
    "\n",
    "# trytext[['法規名稱','條']][:3]\n",
    "trytext = trytext[trytext['法規名稱'] != '行政疏失']\n",
    "# trytext = trytext.drop([trytext.index[1],trytext.index[2],trytext.index[33]])\n",
    "trytext.reset_index(drop=True, inplace=True)\n",
    "trytext['條'] = trytext['條'].astype(int).apply(str)"
   ]
  },
  {
   "cell_type": "markdown",
   "metadata": {},
   "source": [
    "### Evaluation\n",
    "在採購科提供的46個案例中(扣除\"行政疏失\"案例)，每題若有推薦到正確法條者score+1，最後以百分比制計算。<br>\n",
    "e.g. 46條案例中 有23條我們有成功推薦 -> 得分 = 23/46 * 100 = 50 (分)"
   ]
  },
  {
   "cell_type": "markdown",
   "metadata": {},
   "source": [
    "### 定稿版資料測試"
   ]
  },
  {
   "cell_type": "code",
   "execution_count": 40,
   "metadata": {},
   "outputs": [
    {
     "name": "stdout",
     "output_type": "stream",
     "text": [
      "rec_元智_cut_定稿.xlsx\n",
      "Score:  63.0 分\n",
      "\n"
     ]
    }
   ],
   "source": [
    "# Calculate Scores\n",
    "scores = []\n",
    "定稿版_wronglist = []\n",
    "for df in glob(\"*定稿.xlsx\"):\n",
    "    print(df)\n",
    "    df = pd.ExcelFile(df)\n",
    "    i = 0\n",
    "    score = 0\n",
    "    shtnames = [j for i, j in enumerate(df.sheet_names) if i not in [1,2,33]]\n",
    "    for shtname in shtnames: # see all sheet names\n",
    "        sht = df.parse(shtname) # read a specific sheet to DataFrame\n",
    "        sht.iloc[2] = sht.iloc[2].apply(str)\n",
    "        # 比對預測結果中是否有出現實際結果的\"法規名稱\"&\"法條\" \n",
    "        if trytext['法規名稱'][i] in set(sht.iloc[:, 0]) and trytext['條'][i] in set(sht.iloc[:,1]):\n",
    "            score += 1\n",
    "        else:\n",
    "            定稿版_wronglist.append(i)\n",
    "        i += 1\n",
    "    scores.append(score)\n",
    "    print(\"Score: \", round(score/46*100,1),\"分\\n\")"
   ]
  },
  {
   "cell_type": "code",
   "execution_count": 41,
   "metadata": {},
   "outputs": [
    {
     "data": {
      "text/html": [
       "<div>\n",
       "<style scoped>\n",
       "    .dataframe tbody tr th:only-of-type {\n",
       "        vertical-align: middle;\n",
       "    }\n",
       "\n",
       "    .dataframe tbody tr th {\n",
       "        vertical-align: top;\n",
       "    }\n",
       "\n",
       "    .dataframe thead th {\n",
       "        text-align: right;\n",
       "    }\n",
       "</style>\n",
       "<table border=\"1\" class=\"dataframe\">\n",
       "  <thead>\n",
       "    <tr style=\"text-align: right;\">\n",
       "      <th></th>\n",
       "      <th>法規名稱</th>\n",
       "      <th>條</th>\n",
       "      <th>定稿版</th>\n",
       "    </tr>\n",
       "  </thead>\n",
       "  <tbody>\n",
       "    <tr>\n",
       "      <th>1</th>\n",
       "      <td>臺北市政府所屬各機關公共工程施工安全衛生須知</td>\n",
       "      <td>3</td>\n",
       "      <td>依「臺北市政府所屬各機關公共工程施工安全衛生須知」第3點第2款第1目規定：「如屬委託監造，監...</td>\n",
       "    </tr>\n",
       "    <tr>\n",
       "      <th>4</th>\n",
       "      <td>臺北市政府公共工程施工品質管理作業要點</td>\n",
       "      <td>16</td>\n",
       "      <td>項次13-依「臺北市政府公共工程施工品質管理作業要點」第16點第1項規定略以：「機關應依工程...</td>\n",
       "    </tr>\n",
       "    <tr>\n",
       "      <th>7</th>\n",
       "      <td>政府採購法施行細則</td>\n",
       "      <td>101</td>\n",
       "      <td>【項次43】依政府採購法施行細則第101條第1項規定略以：「公告金額以上之工程或財物採購，除...</td>\n",
       "    </tr>\n",
       "    <tr>\n",
       "      <th>8</th>\n",
       "      <td>政府採購法第二十六條執行注意事項</td>\n",
       "      <td>6</td>\n",
       "      <td>【項次16】查招標公告附加說明第5點要求略以：「本工程隔音牆之吸音材，應使用鋁質吸音板，……...</td>\n",
       "    </tr>\n",
       "    <tr>\n",
       "      <th>9</th>\n",
       "      <td>政府採購法施行細則</td>\n",
       "      <td>51</td>\n",
       "      <td>依政府採購法施行細則第51條第1項第4款規定，有標價者，各投標廠商之標價應於開標紀錄中記載；...</td>\n",
       "    </tr>\n",
       "    <tr>\n",
       "      <th>10</th>\n",
       "      <td>政府採購法</td>\n",
       "      <td>26</td>\n",
       "      <td>依契約第2條第3款約定：「機關辦理事項（由機關於招標時載明，無者免填）：特教班、總務處及家長...</td>\n",
       "    </tr>\n",
       "    <tr>\n",
       "      <th>13</th>\n",
       "      <td>政府採購法施行細則</td>\n",
       "      <td>96</td>\n",
       "      <td>第42項-依政府採購法施行細則第96條規定略以：「機關依本法第七十二條第一項規定製作驗收之紀...</td>\n",
       "    </tr>\n",
       "    <tr>\n",
       "      <th>21</th>\n",
       "      <td>採購評選委員會組織準則</td>\n",
       "      <td>4</td>\n",
       "      <td>依採購評選委員會組織準則第4條第1項規定略以：「本委員會置委員五人以上，由機關就具有與採購案...</td>\n",
       "    </tr>\n",
       "    <tr>\n",
       "      <th>23</th>\n",
       "      <td>政府採購法施行細則</td>\n",
       "      <td>43</td>\n",
       "      <td>依政府採購法施行細則第43條第2項規定:「機關釋疑之期限，不得逾截止投標日或資格審查截止收件...</td>\n",
       "    </tr>\n",
       "    <tr>\n",
       "      <th>24</th>\n",
       "      <td>採購評選委員會委員名單保密措施一覽表</td>\n",
       "      <td>2</td>\n",
       "      <td>依「採購評選委員會委員名單保密措施一覽表」第2項規定：「1.由專人依機關首長或其授權人員所核...</td>\n",
       "    </tr>\n",
       "    <tr>\n",
       "      <th>26</th>\n",
       "      <td>臺北市政府所屬各機關公共工程施工安全衛生須知</td>\n",
       "      <td>3</td>\n",
       "      <td>依「臺北市政府所屬各機關公共工程施工安全衛生須知」第3點第2款第1目規定：「如屬委託監造，監...</td>\n",
       "    </tr>\n",
       "    <tr>\n",
       "      <th>29</th>\n",
       "      <td>臺北市政府公共工程施工品質管理作業要點</td>\n",
       "      <td>16</td>\n",
       "      <td>項次13-依「臺北市政府公共工程施工品質管理作業要點」第16點第1項規定略以：「機關應依工程...</td>\n",
       "    </tr>\n",
       "    <tr>\n",
       "      <th>33</th>\n",
       "      <td>政府採購法</td>\n",
       "      <td>26</td>\n",
       "      <td>第17、18項-依政府採購法第二十六條執行注意事項第7點規定:「機關或受機關委託研擬招標文件...</td>\n",
       "    </tr>\n",
       "    <tr>\n",
       "      <th>37</th>\n",
       "      <td>臺北市政府所屬各機關工程施工及驗收基準</td>\n",
       "      <td>25</td>\n",
       "      <td>第44項-依臺北市政府所屬各機關工程施工及驗收基準第25點第2項規定：「驗收結果，應包含檢（...</td>\n",
       "    </tr>\n",
       "    <tr>\n",
       "      <th>41</th>\n",
       "      <td>招標標準期限</td>\n",
       "      <td>7</td>\n",
       "      <td>第2項-依招標標準期限第7條第1項規定：「機關於等標期截止前變更或補充招標文件內容者，應視需...</td>\n",
       "    </tr>\n",
       "    <tr>\n",
       "      <th>42</th>\n",
       "      <td>政府採購法施行細則</td>\n",
       "      <td>96</td>\n",
       "      <td>本案初驗紀錄所附計算式，所有數據除部分工供項之高度為隱蔽外，經招標機關現場表示皆為現場實際丈...</td>\n",
       "    </tr>\n",
       "    <tr>\n",
       "      <th>43</th>\n",
       "      <td>政府採購法施行細則</td>\n",
       "      <td>68</td>\n",
       "      <td>依政府採購法施行細則第68條第2項：「廢標時應製作紀錄，其記載事項，準用前項規定，並應記載廢...</td>\n",
       "    </tr>\n",
       "  </tbody>\n",
       "</table>\n",
       "</div>"
      ],
      "text/plain": [
       "                      法規名稱    條  \\\n",
       "1   臺北市政府所屬各機關公共工程施工安全衛生須知    3   \n",
       "4      臺北市政府公共工程施工品質管理作業要點   16   \n",
       "7                政府採購法施行細則  101   \n",
       "8         政府採購法第二十六條執行注意事項    6   \n",
       "9                政府採購法施行細則   51   \n",
       "10                   政府採購法   26   \n",
       "13               政府採購法施行細則   96   \n",
       "21             採購評選委員會組織準則    4   \n",
       "23               政府採購法施行細則   43   \n",
       "24      採購評選委員會委員名單保密措施一覽表    2   \n",
       "26  臺北市政府所屬各機關公共工程施工安全衛生須知    3   \n",
       "29     臺北市政府公共工程施工品質管理作業要點   16   \n",
       "33                   政府採購法   26   \n",
       "37     臺北市政府所屬各機關工程施工及驗收基準   25   \n",
       "41                  招標標準期限    7   \n",
       "42               政府採購法施行細則   96   \n",
       "43               政府採購法施行細則   68   \n",
       "\n",
       "                                                  定稿版  \n",
       "1   依「臺北市政府所屬各機關公共工程施工安全衛生須知」第3點第2款第1目規定：「如屬委託監造，監...  \n",
       "4   項次13-依「臺北市政府公共工程施工品質管理作業要點」第16點第1項規定略以：「機關應依工程...  \n",
       "7   【項次43】依政府採購法施行細則第101條第1項規定略以：「公告金額以上之工程或財物採購，除...  \n",
       "8   【項次16】查招標公告附加說明第5點要求略以：「本工程隔音牆之吸音材，應使用鋁質吸音板，……...  \n",
       "9   依政府採購法施行細則第51條第1項第4款規定，有標價者，各投標廠商之標價應於開標紀錄中記載；...  \n",
       "10  依契約第2條第3款約定：「機關辦理事項（由機關於招標時載明，無者免填）：特教班、總務處及家長...  \n",
       "13  第42項-依政府採購法施行細則第96條規定略以：「機關依本法第七十二條第一項規定製作驗收之紀...  \n",
       "21  依採購評選委員會組織準則第4條第1項規定略以：「本委員會置委員五人以上，由機關就具有與採購案...  \n",
       "23  依政府採購法施行細則第43條第2項規定:「機關釋疑之期限，不得逾截止投標日或資格審查截止收件...  \n",
       "24  依「採購評選委員會委員名單保密措施一覽表」第2項規定：「1.由專人依機關首長或其授權人員所核...  \n",
       "26  依「臺北市政府所屬各機關公共工程施工安全衛生須知」第3點第2款第1目規定：「如屬委託監造，監...  \n",
       "29  項次13-依「臺北市政府公共工程施工品質管理作業要點」第16點第1項規定略以：「機關應依工程...  \n",
       "33  第17、18項-依政府採購法第二十六條執行注意事項第7點規定:「機關或受機關委託研擬招標文件...  \n",
       "37  第44項-依臺北市政府所屬各機關工程施工及驗收基準第25點第2項規定：「驗收結果，應包含檢（...  \n",
       "41  第2項-依招標標準期限第7條第1項規定：「機關於等標期截止前變更或補充招標文件內容者，應視需...  \n",
       "42  本案初驗紀錄所附計算式，所有數據除部分工供項之高度為隱蔽外，經招標機關現場表示皆為現場實際丈...  \n",
       "43  依政府採購法施行細則第68條第2項：「廢標時應製作紀錄，其記載事項，準用前項規定，並應記載廢...  "
      ]
     },
     "execution_count": 41,
     "metadata": {},
     "output_type": "execute_result"
    }
   ],
   "source": [
    "# 原始版測試資料推薦錯誤的部分\n",
    "trytext.iloc[定稿版_wronglist].drop(columns = ['原始版'])"
   ]
  },
  {
   "cell_type": "markdown",
   "metadata": {},
   "source": [
    "### 原始版資料測試"
   ]
  },
  {
   "cell_type": "code",
   "execution_count": 37,
   "metadata": {},
   "outputs": [
    {
     "name": "stdout",
     "output_type": "stream",
     "text": [
      "rec_元智_cut_原始.xlsx\n",
      "Score:  56.5 分\n",
      "\n"
     ]
    }
   ],
   "source": [
    "# Calculate Scores\n",
    "scores = []\n",
    "原始版_wronglist = []\n",
    "for df in glob(\"*原始.xlsx\"):\n",
    "    print(df)\n",
    "    df = pd.ExcelFile(df)\n",
    "    i = 0\n",
    "    score = 0\n",
    "    shtnames = [j for i, j in enumerate(df.sheet_names) if i not in [1,2,33]]\n",
    "    for shtname in shtnames: # see all sheet names\n",
    "        sht = df.parse(shtname) # read a specific sheet to DataFrame\n",
    "        sht.iloc[2] = sht.iloc[2].apply(str)\n",
    "        # 比對預測結果中是否有出現實際結果的\"法規名稱\"&\"法條\" \n",
    "        if trytext['法規名稱'][i] in set(sht.iloc[:, 0]) and trytext['條'][i] in set(sht.iloc[:,1]):\n",
    "            score += 1\n",
    "        else:\n",
    "            原始版_wronglist.append(i)\n",
    "        i += 1\n",
    "    scores.append(score)\n",
    "    print(\"Score: \", round(score/46*100,1),\"分\\n\")"
   ]
  },
  {
   "cell_type": "code",
   "execution_count": 38,
   "metadata": {},
   "outputs": [
    {
     "data": {
      "text/html": [
       "<div>\n",
       "<style scoped>\n",
       "    .dataframe tbody tr th:only-of-type {\n",
       "        vertical-align: middle;\n",
       "    }\n",
       "\n",
       "    .dataframe tbody tr th {\n",
       "        vertical-align: top;\n",
       "    }\n",
       "\n",
       "    .dataframe thead th {\n",
       "        text-align: right;\n",
       "    }\n",
       "</style>\n",
       "<table border=\"1\" class=\"dataframe\">\n",
       "  <thead>\n",
       "    <tr style=\"text-align: right;\">\n",
       "      <th></th>\n",
       "      <th>法規名稱</th>\n",
       "      <th>條</th>\n",
       "      <th>原始版</th>\n",
       "    </tr>\n",
       "  </thead>\n",
       "  <tbody>\n",
       "    <tr>\n",
       "      <th>1</th>\n",
       "      <td>臺北市政府所屬各機關公共工程施工安全衛生須知</td>\n",
       "      <td>3</td>\n",
       "      <td>第8條履約管理第12款：本案委託技術服務範圍包括監造，人力需求不符「臺北市政府所屬各機關公共...</td>\n",
       "    </tr>\n",
       "    <tr>\n",
       "      <th>4</th>\n",
       "      <td>臺北市政府公共工程施工品質管理作業要點</td>\n",
       "      <td>16</td>\n",
       "      <td>項次13-公告金額以上之工程採購，材料設備抽（檢）驗費用應單獨編列，惟查本案機關未依工程規模...</td>\n",
       "    </tr>\n",
       "    <tr>\n",
       "      <th>7</th>\n",
       "      <td>政府採購法施行細則</td>\n",
       "      <td>101</td>\n",
       "      <td>結算驗收證明書應依政府採購法第73條及其施行細則第101條填具，學校漏未附本資料，請補附。</td>\n",
       "    </tr>\n",
       "    <tr>\n",
       "      <th>10</th>\n",
       "      <td>政府採購法</td>\n",
       "      <td>26</td>\n",
       "      <td>契約第2條第(三)款：「機關辦理事項（由機關於招標時載明，無者免填）：特教班、總務處及家長會...</td>\n",
       "    </tr>\n",
       "    <tr>\n",
       "      <th>11</th>\n",
       "      <td>政府採購法</td>\n",
       "      <td>46</td>\n",
       "      <td>(1).因本案採購標的屬市場流通品，然就貴處所提之預算編列及預估金額分析說明可稽，未進一步分...</td>\n",
       "    </tr>\n",
       "    <tr>\n",
       "      <th>12</th>\n",
       "      <td>機關主會計及有關單位會同監辦採購辦法</td>\n",
       "      <td>7</td>\n",
       "      <td>決標公告載明「機關有關單位(機關內之政風、監查(察)、督察、檢核或稽核單位)是否派員監辦：否...</td>\n",
       "    </tr>\n",
       "    <tr>\n",
       "      <th>13</th>\n",
       "      <td>政府採購法施行細則</td>\n",
       "      <td>96</td>\n",
       "      <td>驗收會議紀錄漏未載明採購案號，未符施行細則第96條第1項第1款規定。</td>\n",
       "    </tr>\n",
       "    <tr>\n",
       "      <th>16</th>\n",
       "      <td>政府採購法施行細則</td>\n",
       "      <td>51</td>\n",
       "      <td>採購法施行細則第48條規定略以：「開標係指依招標文件標示之時間及地點開起廠商投標文件之標封，...</td>\n",
       "    </tr>\n",
       "    <tr>\n",
       "      <th>21</th>\n",
       "      <td>採購評選委員會組織準則</td>\n",
       "      <td>4</td>\n",
       "      <td>依採購評選委員會組織準則第4條第1項規定略以：「本委員會置委員五人至十七人，就具有與採購案相...</td>\n",
       "    </tr>\n",
       "    <tr>\n",
       "      <th>24</th>\n",
       "      <td>採購評選委員會委員名單保密措施一覽表</td>\n",
       "      <td>2</td>\n",
       "      <td>依採購評選委員會組織準則第 6 條規定「本委員會委員名單，於開始評選前應予保密，但經本委員會...</td>\n",
       "    </tr>\n",
       "    <tr>\n",
       "      <th>25</th>\n",
       "      <td>臺北市政府工程經費估算原則</td>\n",
       "      <td>8</td>\n",
       "      <td>「108年定行政辦公室設備優質化工程」施工預算書總表，之直接工程費 2,304,286元，與...</td>\n",
       "    </tr>\n",
       "    <tr>\n",
       "      <th>26</th>\n",
       "      <td>臺北市政府所屬各機關公共工程施工安全衛生須知</td>\n",
       "      <td>3</td>\n",
       "      <td>第8條履約管理第12款：本案委託技術服務範圍包括監造，人力需求不符「臺北市政府所屬各機關公共...</td>\n",
       "    </tr>\n",
       "    <tr>\n",
       "      <th>29</th>\n",
       "      <td>臺北市政府公共工程施工品質管理作業要點</td>\n",
       "      <td>16</td>\n",
       "      <td>項次13-公告金額以上之工程採購，材料設備抽（檢）驗費用應單獨編列，惟查本案機關未依工程規模...</td>\n",
       "    </tr>\n",
       "    <tr>\n",
       "      <th>31</th>\n",
       "      <td>政府採購法</td>\n",
       "      <td>46</td>\n",
       "      <td>第44項-貴處辦理後續擴充之變更設計議價程序，訂定底價前需求單位未提供預估金額說明表載明預估...</td>\n",
       "    </tr>\n",
       "    <tr>\n",
       "      <th>37</th>\n",
       "      <td>臺北市政府所屬各機關工程施工及驗收基準</td>\n",
       "      <td>25</td>\n",
       "      <td>第44項-驗收紀錄只針對施工位置及現場施工的缺失查驗，但施工的材料亦涉及施工旳品質，建議未來...</td>\n",
       "    </tr>\n",
       "    <tr>\n",
       "      <th>38</th>\n",
       "      <td>臺北市政府所屬各機關工程施工及驗收基準</td>\n",
       "      <td>24</td>\n",
       "      <td>本工程於108年8月23日辦理驗收作業，驗收紀錄中記載之驗收結果未包含檢（查、試）驗紀錄之抽...</td>\n",
       "    </tr>\n",
       "    <tr>\n",
       "      <th>39</th>\n",
       "      <td>政府採購法</td>\n",
       "      <td>46</td>\n",
       "      <td>本案核定底價作業所附預估金額說明表之預估金額為2,877,000元，雖有檢附預估金額說明表，...</td>\n",
       "    </tr>\n",
       "    <tr>\n",
       "      <th>41</th>\n",
       "      <td>招標標準期限</td>\n",
       "      <td>7</td>\n",
       "      <td>第2項-12月17日第4次招標預算金鵝油246萬6,082元提高至288萬4,988元，屬於...</td>\n",
       "    </tr>\n",
       "    <tr>\n",
       "      <th>42</th>\n",
       "      <td>政府採購法施行細則</td>\n",
       "      <td>96</td>\n",
       "      <td>初驗紀錄所附計算式，所有數據除部分供項之高度為隱蔽外為現場實際丈量，惟驗收時抽量「柱1包鋼版...</td>\n",
       "    </tr>\n",
       "    <tr>\n",
       "      <th>43</th>\n",
       "      <td>政府採購法施行細則</td>\n",
       "      <td>68</td>\n",
       "      <td>本案108年12月5日下午2時辦理評選會議，評選結果投標廠商未達合格分數(75分) ，貴院1...</td>\n",
       "    </tr>\n",
       "  </tbody>\n",
       "</table>\n",
       "</div>"
      ],
      "text/plain": [
       "                      法規名稱    條  \\\n",
       "1   臺北市政府所屬各機關公共工程施工安全衛生須知    3   \n",
       "4      臺北市政府公共工程施工品質管理作業要點   16   \n",
       "7                政府採購法施行細則  101   \n",
       "10                   政府採購法   26   \n",
       "11                   政府採購法   46   \n",
       "12      機關主會計及有關單位會同監辦採購辦法    7   \n",
       "13               政府採購法施行細則   96   \n",
       "16               政府採購法施行細則   51   \n",
       "21             採購評選委員會組織準則    4   \n",
       "24      採購評選委員會委員名單保密措施一覽表    2   \n",
       "25           臺北市政府工程經費估算原則    8   \n",
       "26  臺北市政府所屬各機關公共工程施工安全衛生須知    3   \n",
       "29     臺北市政府公共工程施工品質管理作業要點   16   \n",
       "31                   政府採購法   46   \n",
       "37     臺北市政府所屬各機關工程施工及驗收基準   25   \n",
       "38     臺北市政府所屬各機關工程施工及驗收基準   24   \n",
       "39                   政府採購法   46   \n",
       "41                  招標標準期限    7   \n",
       "42               政府採購法施行細則   96   \n",
       "43               政府採購法施行細則   68   \n",
       "\n",
       "                                                  原始版  \n",
       "1   第8條履約管理第12款：本案委託技術服務範圍包括監造，人力需求不符「臺北市政府所屬各機關公共...  \n",
       "4   項次13-公告金額以上之工程採購，材料設備抽（檢）驗費用應單獨編列，惟查本案機關未依工程規模...  \n",
       "7       結算驗收證明書應依政府採購法第73條及其施行細則第101條填具，學校漏未附本資料，請補附。  \n",
       "10  契約第2條第(三)款：「機關辦理事項（由機關於招標時載明，無者免填）：特教班、總務處及家長會...  \n",
       "11  (1).因本案採購標的屬市場流通品，然就貴處所提之預算編列及預估金額分析說明可稽，未進一步分...  \n",
       "12  決標公告載明「機關有關單位(機關內之政風、監查(察)、督察、檢核或稽核單位)是否派員監辦：否...  \n",
       "13                 驗收會議紀錄漏未載明採購案號，未符施行細則第96條第1項第1款規定。  \n",
       "16  採購法施行細則第48條規定略以：「開標係指依招標文件標示之時間及地點開起廠商投標文件之標封，...  \n",
       "21  依採購評選委員會組織準則第4條第1項規定略以：「本委員會置委員五人至十七人，就具有與採購案相...  \n",
       "24  依採購評選委員會組織準則第 6 條規定「本委員會委員名單，於開始評選前應予保密，但經本委員會...  \n",
       "25  「108年定行政辦公室設備優質化工程」施工預算書總表，之直接工程費 2,304,286元，與...  \n",
       "26  第8條履約管理第12款：本案委託技術服務範圍包括監造，人力需求不符「臺北市政府所屬各機關公共...  \n",
       "29  項次13-公告金額以上之工程採購，材料設備抽（檢）驗費用應單獨編列，惟查本案機關未依工程規模...  \n",
       "31  第44項-貴處辦理後續擴充之變更設計議價程序，訂定底價前需求單位未提供預估金額說明表載明預估...  \n",
       "37  第44項-驗收紀錄只針對施工位置及現場施工的缺失查驗，但施工的材料亦涉及施工旳品質，建議未來...  \n",
       "38  本工程於108年8月23日辦理驗收作業，驗收紀錄中記載之驗收結果未包含檢（查、試）驗紀錄之抽...  \n",
       "39  本案核定底價作業所附預估金額說明表之預估金額為2,877,000元，雖有檢附預估金額說明表，...  \n",
       "41  第2項-12月17日第4次招標預算金鵝油246萬6,082元提高至288萬4,988元，屬於...  \n",
       "42  初驗紀錄所附計算式，所有數據除部分供項之高度為隱蔽外為現場實際丈量，惟驗收時抽量「柱1包鋼版...  \n",
       "43  本案108年12月5日下午2時辦理評選會議，評選結果投標廠商未達合格分數(75分) ，貴院1...  "
      ]
     },
     "execution_count": 38,
     "metadata": {},
     "output_type": "execute_result"
    }
   ],
   "source": [
    "# 定稿版測試資料推薦錯誤的部分\n",
    "trytext.iloc[原始版_wronglist].drop(columns = ['定稿版'])"
   ]
  },
  {
   "cell_type": "code",
   "execution_count": 39,
   "metadata": {},
   "outputs": [
    {
     "data": {
      "text/plain": [
       "[1, 4, 7, 10, 11, 12, 13, 16, 21, 24, 25, 26, 29, 31, 37, 38, 39, 41, 42, 43]"
      ]
     },
     "execution_count": 39,
     "metadata": {},
     "output_type": "execute_result"
    }
   ],
   "source": [
    "原始版_wronglist"
   ]
  },
  {
   "cell_type": "code",
   "execution_count": 42,
   "metadata": {},
   "outputs": [
    {
     "data": {
      "text/plain": [
       "[1, 4, 7, 8, 9, 10, 13, 21, 23, 24, 26, 29, 33, 37, 41, 42, 43]"
      ]
     },
     "execution_count": 42,
     "metadata": {},
     "output_type": "execute_result"
    }
   ],
   "source": [
    "定稿版_wronglist"
   ]
  },
  {
   "cell_type": "code",
   "execution_count": 43,
   "metadata": {},
   "outputs": [
    {
     "data": {
      "text/plain": [
       "[1, 4, 37, 7, 41, 10, 42, 43, 13, 21, 24, 26, 29]"
      ]
     },
     "execution_count": 43,
     "metadata": {},
     "output_type": "execute_result"
    }
   ],
   "source": [
    "# 兩版資料皆推薦錯誤\n",
    "list(set(原始版_wronglist)&set(定稿版_wronglist))"
   ]
  },
  {
   "cell_type": "code",
   "execution_count": 28,
   "metadata": {},
   "outputs": [
    {
     "data": {
      "text/plain": [
       "{8, 9, 23, 33}"
      ]
     },
     "execution_count": 28,
     "metadata": {},
     "output_type": "execute_result"
    }
   ],
   "source": [
    "# 僅原始版錯誤推薦\n",
    "set(原始版_wronglist) - set(定稿版_wronglist)"
   ]
  },
  {
   "cell_type": "code",
   "execution_count": 29,
   "metadata": {},
   "outputs": [
    {
     "data": {
      "text/plain": [
       "{11, 12, 16, 25, 31, 38, 39}"
      ]
     },
     "execution_count": 29,
     "metadata": {},
     "output_type": "execute_result"
    }
   ],
   "source": [
    "# 僅定稿版錯誤推薦\n",
    "set(定稿版_wronglist) - set(原始版_wronglist)"
   ]
  },
  {
   "cell_type": "code",
   "execution_count": null,
   "metadata": {},
   "outputs": [],
   "source": []
  }
 ],
 "metadata": {
  "kernelspec": {
   "display_name": "tfenv",
   "language": "python",
   "name": "tfenv"
  },
  "language_info": {
   "codemirror_mode": {
    "name": "ipython",
    "version": 3
   },
   "file_extension": ".py",
   "mimetype": "text/x-python",
   "name": "python",
   "nbconvert_exporter": "python",
   "pygments_lexer": "ipython3",
   "version": "3.6.12"
  }
 },
 "nbformat": 4,
 "nbformat_minor": 4
}
