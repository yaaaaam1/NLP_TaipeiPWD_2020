{
 "cells": [
  {
   "cell_type": "markdown",
   "metadata": {},
   "source": [
    "# Recommendation Using TF-IDF weighted Words Embedding\n",
    "\n",
    "**STEP** <br>\n",
    "1. Create TF-IDF \n",
    "2. Convert a tf-idf dictionary with word as key, idf as a value\n",
    "3. Get TF-IDF features\n",
    "4. Combine pretrained words embedding with TF-IDF\n",
    "5. Calculate Cosine Similarity \n",
    "6. Recommend Law "
   ]
  },
  {
   "cell_type": "markdown",
   "metadata": {},
   "source": [
    "### Read ckiptagger & Dataframe"
   ]
  },
  {
   "cell_type": "code",
   "execution_count": 1,
   "metadata": {},
   "outputs": [],
   "source": [
    "import model_building\n",
    "import pandas as pd\n",
    "import numpy as np\n",
    "from sklearn.feature_extraction.text import TfidfVectorizer\n",
    "from sklearn.metrics.pairwise import cosine_similarity\n",
    "import re\n",
    "from ckiptagger import data_utils, construct_dictionary, WS, POS, NER\n",
    "import datetime\n",
    "import pickle\n",
    "\n",
    "path = \"./data\"\n",
    "ws = WS(path)\n",
    "\n",
    "df = pd.read_csv('data_etl_step3_noPuncDict.csv')\n",
    "# Replace '@' with ' ' in original dataframe\n",
    "df.token = df.token.apply(lambda text: str(text).replace('@',' '))"
   ]
  },
  {
   "cell_type": "markdown",
   "metadata": {},
   "source": [
    "### Import Words Dictionary"
   ]
  },
  {
   "cell_type": "code",
   "execution_count": 2,
   "metadata": {},
   "outputs": [],
   "source": [
    "# dictionary\n",
    "dict_path = './dictionary'\n",
    "legal_name_file = dict_path + '/name_of_legal.txt'\n",
    "word_file = dict_path + '/oth_words.txt'\n",
    "split_rule_kw_file = dict_path + '/split_rule_words.txt'\n",
    "\n",
    "with open(legal_name_file, 'r', encoding='big5') as k1, open(word_file, 'r', encoding='big5') as k2:\n",
    "    k = k1.read().split('\\n') + k2.read().split('\\n')\n",
    "    word_to_weight = dict([(_, 1) for _ in k])\n",
    "word_dict = construct_dictionary(word_to_weight)"
   ]
  },
  {
   "cell_type": "markdown",
   "metadata": {},
   "source": [
    "### Read Pretrained Words Embedding\n",
    "詞向量訓練文本來源為中文維基百科，全部的訓練文本可於[此](https://dumps.wikimedia.org/zhwiki/latest/zhwiki-latest-pages-articles.xml.bz2)下載最新版的中文維基百科。<br>\n",
    "維基百科2014（總詞彙數：655K，400維詞向量，下載大小為2.5G）<br>\n",
    "來源：[元智大學自然語言處理實驗室](http://nlp.innobic.yzu.edu.tw/demo/word-embedding.html)"
   ]
  },
  {
   "cell_type": "code",
   "execution_count": 3,
   "metadata": {},
   "outputs": [],
   "source": [
    "# https://ithelp.ithome.com.tw/articles/10194633\n",
    "embeddings = {}\n",
    "f = open('wiki.zh.vector', encoding = 'utf8') \n",
    "for line in f:\n",
    "    values = line.split()\n",
    "    word = values[0]\n",
    "    coefs = np.asarray(values[1:], dtype='float32')\n",
    "    embeddings[word] = coefs\n",
    "f.close()"
   ]
  },
  {
   "cell_type": "markdown",
   "metadata": {},
   "source": [
    "### Tf-idf for Tokenized Text in Dataframe"
   ]
  },
  {
   "cell_type": "code",
   "execution_count": 4,
   "metadata": {},
   "outputs": [],
   "source": [
    "# TF-IDF Model\n",
    "tfidf_ml = TfidfVectorizer()\n",
    "tfidf_ml.fit(df.token)\n",
    "\n",
    "# TF-IDF Dicitonary\n",
    "dictionary = dict(zip(tfidf_ml.get_feature_names(), list(tfidf_ml.idf_)))\n",
    "\n",
    "# feature name\n",
    "tfidf_feature = tfidf_ml.get_feature_names()"
   ]
  },
  {
   "cell_type": "markdown",
   "metadata": {},
   "source": [
    "### Newly Entered Text Preprocess function\n",
    "- Remove Punctuation\n",
    "- Remove Spaces\n",
    "- Sentence Segment\n",
    "- turn into list"
   ]
  },
  {
   "cell_type": "code",
   "execution_count": 5,
   "metadata": {},
   "outputs": [],
   "source": [
    "def Preprocess(text):\n",
    "    rule = re.compile(r'[^a-zA-Z0-9\\u4e00-\\u9fa5]')\n",
    "    text = rule.sub(' ',str(text))\n",
    "    text = re.sub(' +', '',text)\n",
    "    text = ws([text],sentence_segmentation=True, recommend_dictionary=word_dict)\n",
    "    text = [x for l in text for x in l]\n",
    "    return(text)"
   ]
  },
  {
   "cell_type": "markdown",
   "metadata": {},
   "source": [
    "### Calculate TF-IDF Weighted Word Embedding"
   ]
  },
  {
   "cell_type": "code",
   "execution_count": 6,
   "metadata": {},
   "outputs": [
    {
     "name": "stdout",
     "output_type": "stream",
     "text": [
      "建立模型時間:  0:04:03.024476\n"
     ]
    }
   ],
   "source": [
    "starttime = datetime.datetime.now()\n",
    "\n",
    "# TF-IDF weighted Word2Vec\n",
    "tfidf_text_vect = [] # tfidf-w2v is stored in this list\n",
    "row = 0\n",
    "\n",
    "for text in df.token.apply(lambda text: text.split()):\n",
    "    text_vect = np.zeros(400)\n",
    "    weight_sum = 0\n",
    "    for word in text:\n",
    "        if word in embeddings.keys() and word in tfidf_feature:\n",
    "            vec = embeddings[word]\n",
    "            tf_idf = dictionary[word]*(text.count(word)/len(text))\n",
    "            text_vect += (vec * tf_idf)\n",
    "            weight_sum += tf_idf\n",
    "    if weight_sum != 0:\n",
    "        text_vect /= weight_sum\n",
    "    tfidf_text_vect.append(text_vect)\n",
    "    row += 1\n",
    "\n",
    "# calculate running time\n",
    "endtime = datetime.datetime.now()\n",
    "print(\"建立模型時間: \",endtime - starttime)"
   ]
  },
  {
   "cell_type": "markdown",
   "metadata": {},
   "source": [
    "### Law Recommendation Function\n",
    "輸入內文 --> 跑出推薦的前十個相近內文對應的法律"
   ]
  },
  {
   "cell_type": "code",
   "execution_count": 7,
   "metadata": {},
   "outputs": [],
   "source": [
    "def recommend_law(text, tfidf_text_vect = tfidf_text_vect):\n",
    "    text = Preprocess(text)\n",
    "    text_vect = np.zeros(400) # w2v size\n",
    "    weight_sum = 0\n",
    "    for word in text:\n",
    "        if word in embeddings.keys() and word in tfidf_feature:\n",
    "            vec = embeddings[word]\n",
    "            tf_idf = dictionary[word]*(text.count(word)/len(text))\n",
    "            text_vect += (vec * tf_idf)\n",
    "            weight_sum += tf_idf\n",
    "    if weight_sum != 0:\n",
    "        text_vect /= weight_sum\n",
    "    tmp_vect = [*tfidf_text_vect,text_vect]\n",
    "    new_cos_sim = cosine_similarity(tmp_vect, tmp_vect)\n",
    "    sim_score = np.sort(new_cos_sim[new_cos_sim.shape[0]-1])[::-1][1:11]\n",
    "    tmp_top_10_law = df[['法規名稱','條','事實&改進建議']].iloc[np.argsort(new_cos_sim[new_cos_sim.shape[0]-1])[::-1][1:11]]\n",
    "    tmp_top_10_law['similarity_score'] = [round(score*100,1) for score in sim_score]\n",
    "    return tmp_top_10_law"
   ]
  },
  {
   "cell_type": "markdown",
   "metadata": {},
   "source": [
    "### Try an Example\n",
    "輸入內容便可以推薦出適合的法律<br>\n",
    "(這邊列出的CE_Comment純粹是用來比對「輸入的內容」跟「原本內文」是否真的相近)"
   ]
  },
  {
   "cell_type": "code",
   "execution_count": 8,
   "metadata": {},
   "outputs": [
    {
     "name": "stdout",
     "output_type": "stream",
     "text": [
      "搜尋推薦時間:  0:00:03.189176\n"
     ]
    }
   ],
   "source": [
    "starttime = datetime.datetime.now()\n",
    "\n",
    "newtext = '開標時有作拒絕往來廠商調查'\n",
    "result = recommend_law(newtext)\n",
    "\n",
    "# calculate running time\n",
    "endtime = datetime.datetime.now()\n",
    "print(\"搜尋推薦時間: \",endtime - starttime)"
   ]
  },
  {
   "cell_type": "code",
   "execution_count": 10,
   "metadata": {},
   "outputs": [
    {
     "data": {
      "text/html": [
       "<div>\n",
       "<style scoped>\n",
       "    .dataframe tbody tr th:only-of-type {\n",
       "        vertical-align: middle;\n",
       "    }\n",
       "\n",
       "    .dataframe tbody tr th {\n",
       "        vertical-align: top;\n",
       "    }\n",
       "\n",
       "    .dataframe thead th {\n",
       "        text-align: right;\n",
       "    }\n",
       "</style>\n",
       "<table border=\"1\" class=\"dataframe\">\n",
       "  <thead>\n",
       "    <tr style=\"text-align: right;\">\n",
       "      <th></th>\n",
       "      <th>法規名稱</th>\n",
       "      <th>條</th>\n",
       "      <th>similarity_score</th>\n",
       "    </tr>\n",
       "  </thead>\n",
       "  <tbody>\n",
       "    <tr>\n",
       "      <th>6345</th>\n",
       "      <td>投標廠商資格與特殊或巨額採購認定標準</td>\n",
       "      <td>4</td>\n",
       "      <td>69.3</td>\n",
       "    </tr>\n",
       "    <tr>\n",
       "      <th>15015</th>\n",
       "      <td>政府採購法</td>\n",
       "      <td>103</td>\n",
       "      <td>69.2</td>\n",
       "    </tr>\n",
       "    <tr>\n",
       "      <th>11178</th>\n",
       "      <td>政府採購法</td>\n",
       "      <td>103</td>\n",
       "      <td>67.7</td>\n",
       "    </tr>\n",
       "    <tr>\n",
       "      <th>13418</th>\n",
       "      <td>政府採購法</td>\n",
       "      <td>50</td>\n",
       "      <td>67.4</td>\n",
       "    </tr>\n",
       "    <tr>\n",
       "      <th>13476</th>\n",
       "      <td>政府採購法</td>\n",
       "      <td>103</td>\n",
       "      <td>67.4</td>\n",
       "    </tr>\n",
       "    <tr>\n",
       "      <th>14369</th>\n",
       "      <td>政府採購法</td>\n",
       "      <td>50</td>\n",
       "      <td>66.2</td>\n",
       "    </tr>\n",
       "    <tr>\n",
       "      <th>13536</th>\n",
       "      <td>政府採購法</td>\n",
       "      <td>50</td>\n",
       "      <td>66.1</td>\n",
       "    </tr>\n",
       "    <tr>\n",
       "      <th>13549</th>\n",
       "      <td>政府採購法</td>\n",
       "      <td>50</td>\n",
       "      <td>65.8</td>\n",
       "    </tr>\n",
       "    <tr>\n",
       "      <th>5791</th>\n",
       "      <td>投標廠商資格與特殊或巨額採購認定標準</td>\n",
       "      <td>4</td>\n",
       "      <td>65.6</td>\n",
       "    </tr>\n",
       "    <tr>\n",
       "      <th>12344</th>\n",
       "      <td>政府採購法</td>\n",
       "      <td>50</td>\n",
       "      <td>65.2</td>\n",
       "    </tr>\n",
       "  </tbody>\n",
       "</table>\n",
       "</div>"
      ],
      "text/plain": [
       "                     法規名稱    條  similarity_score\n",
       "6345   投標廠商資格與特殊或巨額採購認定標準    4              69.3\n",
       "15015               政府採購法  103              69.2\n",
       "11178               政府採購法  103              67.7\n",
       "13418               政府採購法   50              67.4\n",
       "13476               政府採購法  103              67.4\n",
       "14369               政府採購法   50              66.2\n",
       "13536               政府採購法   50              66.1\n",
       "13549               政府採購法   50              65.8\n",
       "5791   投標廠商資格與特殊或巨額採購認定標準    4              65.6\n",
       "12344               政府採購法   50              65.2"
      ]
     },
     "execution_count": 10,
     "metadata": {},
     "output_type": "execute_result"
    }
   ],
   "source": [
    "result.drop(columns = ['事實&改進建議'])"
   ]
  },
  {
   "cell_type": "markdown",
   "metadata": {},
   "source": [
    "### Evaluation for different Recommendation System"
   ]
  },
  {
   "cell_type": "code",
   "execution_count": 11,
   "metadata": {},
   "outputs": [],
   "source": [
    "from glob import glob\n",
    "trytext = pd.read_excel('原始意見及定稿意見彙整表_v3.xlsx')\n",
    "trytext = trytext.drop([trytext.index[1],trytext.index[2],trytext.index[33]])\n",
    "trytext.reset_index(drop=True, inplace=True)\n",
    "trytext['條'] = trytext['條'].astype(int).apply(str)"
   ]
  },
  {
   "cell_type": "markdown",
   "metadata": {},
   "source": [
    "### Import Recommendation Results & Calculate Scores\n",
    "在採購科提供的46個案例中(扣除\"行政疏失\"案例)，每題若有推薦到正確法條者score+1，最後以百分比制計算。<br>\n",
    "e.g. 46條案例中 有23條我們有成功推薦 -> 得分 = 23/46 * 100 = 50 (分)\n",
    "\n",
    "**資料介紹:**<br>\n",
    "cut --> 政雲提供之分段資料<br>\n",
    "d2、d3 --> Bonzo提供之斷詞資料(d2 & d3 為兩個不同斷詞方法的版本)\n",
    "\n",
    "**從以下結果得出效果最好的為使用「元智科大詞向量&分段資料」的方式**"
   ]
  },
  {
   "cell_type": "code",
   "execution_count": 13,
   "metadata": {},
   "outputs": [
    {
     "name": "stdout",
     "output_type": "stream",
     "text": [
      "rec_元智_cut.xlsx\n",
      "Score:  56.5 分\n",
      "\n",
      "rec_元智_d2.xlsx\n",
      "Score:  54.3 分\n",
      "\n",
      "rec_元智_d3.xlsx\n",
      "Score:  54.3 分\n",
      "\n"
     ]
    }
   ],
   "source": [
    "# Calculate Scores\n",
    "scores = []\n",
    "for df in glob(\"rec*.xlsx\"):\n",
    "    print(df)\n",
    "    df = pd.ExcelFile(df)\n",
    "    i = 0\n",
    "    score = 0\n",
    "    shtnames = [j for i, j in enumerate(df.sheet_names) if i not in [1,2,33]]\n",
    "    for shtname in shtnames: # see all sheet names\n",
    "        sht = df.parse(shtname) # read a specific sheet to DataFrame\n",
    "        sht.iloc[2] = sht.iloc[2].apply(str)\n",
    "        # 比對預測結果中是否有出現實際結果的\"法規名稱\"&\"法條\" \n",
    "        if trytext['法規名稱'][i] in set(sht.iloc[:, 0]) and trytext['條'][i] in set(sht.iloc[:,1]):\n",
    "            score += 1\n",
    "#             print(shtname)\n",
    "        i += 1\n",
    "    scores.append(score)\n",
    "    print(\"Score: \", round(score/46*100,1),\"分\\n\")"
   ]
  }
 ],
 "metadata": {
  "kernelspec": {
   "display_name": "tfenv",
   "language": "python",
   "name": "tfenv"
  },
  "language_info": {
   "codemirror_mode": {
    "name": "ipython",
    "version": 3
   },
   "file_extension": ".py",
   "mimetype": "text/x-python",
   "name": "python",
   "nbconvert_exporter": "python",
   "pygments_lexer": "ipython3",
   "version": "3.6.12"
  }
 },
 "nbformat": 4,
 "nbformat_minor": 4
}
